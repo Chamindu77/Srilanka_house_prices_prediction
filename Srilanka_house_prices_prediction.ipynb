{
 "cells": [
  {
   "cell_type": "code",
   "execution_count": 1,
   "id": "62f525d9-1512-49ad-97d4-9e2ce02bd565",
   "metadata": {},
   "outputs": [
    {
     "name": "stdout",
     "output_type": "stream",
     "text": [
      "Defaulting to user installation because normal site-packages is not writeable\n",
      "Requirement already satisfied: nbformat==5.10.4 in c:\\users\\acer nitro 5\\appdata\\roaming\\python\\python311\\site-packages (5.10.4)\n",
      "Requirement already satisfied: nbconvert==7.16.1 in c:\\users\\acer nitro 5\\appdata\\roaming\\python\\python311\\site-packages (7.16.1)\n",
      "Requirement already satisfied: fastjsonschema>=2.15 in c:\\programdata\\anaconda3\\lib\\site-packages (from nbformat==5.10.4) (2.16.2)\n",
      "Requirement already satisfied: jsonschema>=2.6 in c:\\programdata\\anaconda3\\lib\\site-packages (from nbformat==5.10.4) (4.19.2)\n",
      "Requirement already satisfied: jupyter-core!=5.0.*,>=4.12 in c:\\programdata\\anaconda3\\lib\\site-packages (from nbformat==5.10.4) (5.5.0)\n",
      "Requirement already satisfied: traitlets>=5.1 in c:\\programdata\\anaconda3\\lib\\site-packages (from nbformat==5.10.4) (5.7.1)\n",
      "Requirement already satisfied: beautifulsoup4 in c:\\programdata\\anaconda3\\lib\\site-packages (from nbconvert==7.16.1) (4.12.2)\n",
      "Requirement already satisfied: bleach!=5.0.0 in c:\\programdata\\anaconda3\\lib\\site-packages (from nbconvert==7.16.1) (4.1.0)\n",
      "Requirement already satisfied: defusedxml in c:\\programdata\\anaconda3\\lib\\site-packages (from nbconvert==7.16.1) (0.7.1)\n",
      "Requirement already satisfied: jinja2>=3.0 in c:\\programdata\\anaconda3\\lib\\site-packages (from nbconvert==7.16.1) (3.1.3)\n",
      "Requirement already satisfied: jupyterlab-pygments in c:\\programdata\\anaconda3\\lib\\site-packages (from nbconvert==7.16.1) (0.1.2)\n",
      "Requirement already satisfied: markupsafe>=2.0 in c:\\programdata\\anaconda3\\lib\\site-packages (from nbconvert==7.16.1) (2.1.3)\n",
      "Requirement already satisfied: mistune<4,>=2.0.3 in c:\\programdata\\anaconda3\\lib\\site-packages (from nbconvert==7.16.1) (2.0.4)\n",
      "Requirement already satisfied: nbclient>=0.5.0 in c:\\programdata\\anaconda3\\lib\\site-packages (from nbconvert==7.16.1) (0.8.0)\n",
      "Requirement already satisfied: packaging in c:\\programdata\\anaconda3\\lib\\site-packages (from nbconvert==7.16.1) (23.1)\n",
      "Requirement already satisfied: pandocfilters>=1.4.1 in c:\\programdata\\anaconda3\\lib\\site-packages (from nbconvert==7.16.1) (1.5.0)\n",
      "Requirement already satisfied: pygments>=2.4.1 in c:\\programdata\\anaconda3\\lib\\site-packages (from nbconvert==7.16.1) (2.15.1)\n",
      "Requirement already satisfied: tinycss2 in c:\\programdata\\anaconda3\\lib\\site-packages (from nbconvert==7.16.1) (1.2.1)\n",
      "Requirement already satisfied: six>=1.9.0 in c:\\programdata\\anaconda3\\lib\\site-packages (from bleach!=5.0.0->nbconvert==7.16.1) (1.16.0)\n",
      "Requirement already satisfied: webencodings in c:\\programdata\\anaconda3\\lib\\site-packages (from bleach!=5.0.0->nbconvert==7.16.1) (0.5.1)\n",
      "Requirement already satisfied: attrs>=22.2.0 in c:\\programdata\\anaconda3\\lib\\site-packages (from jsonschema>=2.6->nbformat==5.10.4) (23.1.0)\n",
      "Requirement already satisfied: jsonschema-specifications>=2023.03.6 in c:\\programdata\\anaconda3\\lib\\site-packages (from jsonschema>=2.6->nbformat==5.10.4) (2023.7.1)\n",
      "Requirement already satisfied: referencing>=0.28.4 in c:\\programdata\\anaconda3\\lib\\site-packages (from jsonschema>=2.6->nbformat==5.10.4) (0.30.2)\n",
      "Requirement already satisfied: rpds-py>=0.7.1 in c:\\programdata\\anaconda3\\lib\\site-packages (from jsonschema>=2.6->nbformat==5.10.4) (0.10.6)\n",
      "Requirement already satisfied: platformdirs>=2.5 in c:\\programdata\\anaconda3\\lib\\site-packages (from jupyter-core!=5.0.*,>=4.12->nbformat==5.10.4) (3.10.0)\n",
      "Requirement already satisfied: pywin32>=300 in c:\\programdata\\anaconda3\\lib\\site-packages (from jupyter-core!=5.0.*,>=4.12->nbformat==5.10.4) (305.1)\n",
      "Requirement already satisfied: jupyter-client>=6.1.12 in c:\\programdata\\anaconda3\\lib\\site-packages (from nbclient>=0.5.0->nbconvert==7.16.1) (8.6.0)\n",
      "Requirement already satisfied: soupsieve>1.2 in c:\\programdata\\anaconda3\\lib\\site-packages (from beautifulsoup4->nbconvert==7.16.1) (2.5)\n",
      "Requirement already satisfied: python-dateutil>=2.8.2 in c:\\programdata\\anaconda3\\lib\\site-packages (from jupyter-client>=6.1.12->nbclient>=0.5.0->nbconvert==7.16.1) (2.8.2)\n",
      "Requirement already satisfied: pyzmq>=23.0 in c:\\programdata\\anaconda3\\lib\\site-packages (from jupyter-client>=6.1.12->nbclient>=0.5.0->nbconvert==7.16.1) (25.1.2)\n",
      "Requirement already satisfied: tornado>=6.2 in c:\\programdata\\anaconda3\\lib\\site-packages (from jupyter-client>=6.1.12->nbclient>=0.5.0->nbconvert==7.16.1) (6.3.3)\n"
     ]
    }
   ],
   "source": [
    "# Install nbformat and nbconvert\n",
    "!pip install nbformat==5.10.4 nbconvert==7.16.1\n"
   ]
  },
  {
   "cell_type": "code",
   "execution_count": 2,
   "id": "b8bc0f53-9a0a-4727-ac66-517b6095a609",
   "metadata": {},
   "outputs": [],
   "source": [
    "import pandas as pd\n",
    "import numpy as np\n",
    "from matplotlib import pyplot as plt\n",
    "%matplotlib inline\n",
    "import matplotlib \n",
    "matplotlib.rcParams[\"figure.figsize\"] = (20,10)"
   ]
  },
  {
   "cell_type": "markdown",
   "id": "afd9f248-792a-4f28-ac34-d859b2b801f2",
   "metadata": {},
   "source": [
    "## Data Load: Load SriLanka home prices into a dataframe"
   ]
  },
  {
   "cell_type": "code",
   "execution_count": 3,
   "id": "f2ded78a-0484-4f83-892f-2e9a29eed8c0",
   "metadata": {},
   "outputs": [
    {
     "data": {
      "text/html": [
       "<div>\n",
       "<style scoped>\n",
       "    .dataframe tbody tr th:only-of-type {\n",
       "        vertical-align: middle;\n",
       "    }\n",
       "\n",
       "    .dataframe tbody tr th {\n",
       "        vertical-align: top;\n",
       "    }\n",
       "\n",
       "    .dataframe thead th {\n",
       "        text-align: right;\n",
       "    }\n",
       "</style>\n",
       "<table border=\"1\" class=\"dataframe\">\n",
       "  <thead>\n",
       "    <tr style=\"text-align: right;\">\n",
       "      <th></th>\n",
       "      <th>Title</th>\n",
       "      <th>Sub_title</th>\n",
       "      <th>Price</th>\n",
       "      <th>Address</th>\n",
       "      <th>Baths</th>\n",
       "      <th>Land size</th>\n",
       "      <th>Beds</th>\n",
       "      <th>House size</th>\n",
       "      <th>Location</th>\n",
       "      <th>Description</th>\n",
       "      <th>Post_URL</th>\n",
       "      <th>Seller_name</th>\n",
       "      <th>Seller_type</th>\n",
       "      <th>published_date</th>\n",
       "      <th>Geo_Address</th>\n",
       "      <th>Lat</th>\n",
       "      <th>Lon</th>\n",
       "    </tr>\n",
       "  </thead>\n",
       "  <tbody>\n",
       "    <tr>\n",
       "      <th>0</th>\n",
       "      <td>House with Land for Sale in Matara for sale</td>\n",
       "      <td>Posted on 06 Nov 2:32 pm, Matara City, Matara</td>\n",
       "      <td>Rs 5,400,000</td>\n",
       "      <td>Gangodagama Roard,Hakmana,Matara.</td>\n",
       "      <td>1</td>\n",
       "      <td>50.0 perches</td>\n",
       "      <td>3</td>\n",
       "      <td>1,600.0 sqft</td>\n",
       "      <td>Matara City,  Matara</td>\n",
       "      <td>Land for sale with house Matara,Hakmana Gangod...</td>\n",
       "      <td>https://ikman.lk/en/ad/house-with-land-for-sal...</td>\n",
       "      <td>Ishara Dilshan</td>\n",
       "      <td>Member</td>\n",
       "      <td>2021-11-06 14:32:00</td>\n",
       "      <td>Matara City, Matara, Sri Lanka</td>\n",
       "      <td>80.500000</td>\n",
       "      <td>6.166670</td>\n",
       "    </tr>\n",
       "    <tr>\n",
       "      <th>1</th>\n",
       "      <td>à¶",
       "à¶½à·à¶­à· à¶à·à¶¸à¶» 3 à¶ à¶à·à· à...</td>\n",
       "      <td>Posted on 24 Oct 7:27 am, Athurugiriya, Colombo</td>\n",
       "      <td>Rs 16,800,000</td>\n",
       "      <td>Athurugiriya Galwarusapare</td>\n",
       "      <td>3</td>\n",
       "      <td>8.0 perches</td>\n",
       "      <td>3</td>\n",
       "      <td>1,480.0 sqft</td>\n",
       "      <td>Athurugiriya,  Colombo</td>\n",
       "      <td>*House For Sale In Athurugiriya *Galwarusapare...</td>\n",
       "      <td>https://ikman.lk/en/ad/alut-kaamr-3-k-grh-bhaa...</td>\n",
       "      <td>DILRUWAN REAL ESTATE</td>\n",
       "      <td>Premium-Member</td>\n",
       "      <td>2021-10-24 07:27:00</td>\n",
       "      <td>Athurugiriya, Colombo, Sri Lanka</td>\n",
       "      <td>79.989929</td>\n",
       "      <td>6.877246</td>\n",
       "    </tr>\n",
       "    <tr>\n",
       "      <th>2</th>\n",
       "      <td>Kelaniya - House on 20P Land for sale for sale</td>\n",
       "      <td>Posted on 17 Nov 5:19 pm, Kelaniya, Gampaha</td>\n",
       "      <td>Rs 20,000,000</td>\n",
       "      <td>Kelaniya- Ranaviru Maldeniya Road</td>\n",
       "      <td>2</td>\n",
       "      <td>20.0 perches</td>\n",
       "      <td>3</td>\n",
       "      <td>2,800.0 sqft</td>\n",
       "      <td>Kelaniya,  Gampaha</td>\n",
       "      <td>Kelaniya- Biyagama road, Ranaviru Maladeniya R...</td>\n",
       "      <td>https://ikman.lk/en/ad/kelaniya-house-on-20p-l...</td>\n",
       "      <td>Provident Paradise (Pvt) Ltd</td>\n",
       "      <td>Member</td>\n",
       "      <td>2021-11-17 17:19:00</td>\n",
       "      <td>Kelaniya, Gampaha, Sri Lanka</td>\n",
       "      <td>79.914926</td>\n",
       "      <td>6.951178</td>\n",
       "    </tr>\n",
       "    <tr>\n",
       "      <th>3</th>\n",
       "      <td>House For Sale in Pamankada Lane Wellawatte Co...</td>\n",
       "      <td>Posted on 17 Nov 5:07 pm, Colombo 6, Colombo</td>\n",
       "      <td>Rs 187,000,000</td>\n",
       "      <td>Pamankada Lane Wellawatte Colombo.06</td>\n",
       "      <td>5</td>\n",
       "      <td>22.0 perches</td>\n",
       "      <td>5</td>\n",
       "      <td>4,000.0 sqft</td>\n",
       "      <td>Colombo 6,  Colombo</td>\n",
       "      <td>22 Perches House For Sale in Pamankada Lane We...</td>\n",
       "      <td>https://ikman.lk/en/ad/house-for-sale-in-paman...</td>\n",
       "      <td>Colombo Construction Property Developers</td>\n",
       "      <td>Premium-Member</td>\n",
       "      <td>2021-11-17 17:07:00</td>\n",
       "      <td>Colombo 6, Colombo, Sri Lanka</td>\n",
       "      <td>80.016670</td>\n",
       "      <td>6.866670</td>\n",
       "    </tr>\n",
       "    <tr>\n",
       "      <th>4</th>\n",
       "      <td>House For Sale - Attidiya for sale</td>\n",
       "      <td>Posted on 17 Nov 5:06 pm, Dehiwala, Colombo</td>\n",
       "      <td>Rs 1,300,000</td>\n",
       "      <td>MainRoad Attidiya</td>\n",
       "      <td>1</td>\n",
       "      <td>6.3 perches</td>\n",
       "      <td>2</td>\n",
       "      <td>900.0 sqft</td>\n",
       "      <td>Dehiwala,  Colombo</td>\n",
       "      <td>*à¶",
       "à¶­à·à¶­à·à¶©à·à¶º à¶´à·âà¶»à¶¯à·à·...</td>\n",
       "      <td>https://ikman.lk/en/ad/house-for-sale-attidiya...</td>\n",
       "      <td>Lakdinu Houses</td>\n",
       "      <td>Member</td>\n",
       "      <td>2021-11-17 17:06:00</td>\n",
       "      <td>Dehiwala, Colombo, Sri Lanka</td>\n",
       "      <td>79.880242</td>\n",
       "      <td>6.838232</td>\n",
       "    </tr>\n",
       "  </tbody>\n",
       "</table>\n",
       "</div>"
      ],
      "text/plain": [
       "                                               Title  \\\n",
       "0        House with Land for Sale in Matara for sale   \n",
       "1  à¶\n",
       "à¶½à·à¶­à· à¶à·à¶¸à¶» 3 à¶ à¶à·à· à...   \n",
       "2     Kelaniya - House on 20P Land for sale for sale   \n",
       "3  House For Sale in Pamankada Lane Wellawatte Co...   \n",
       "4                 House For Sale - Attidiya for sale   \n",
       "\n",
       "                                         Sub_title           Price  \\\n",
       "0    Posted on 06 Nov 2:32 pm, Matara City, Matara    Rs 5,400,000   \n",
       "1  Posted on 24 Oct 7:27 am, Athurugiriya, Colombo   Rs 16,800,000   \n",
       "2      Posted on 17 Nov 5:19 pm, Kelaniya, Gampaha   Rs 20,000,000   \n",
       "3     Posted on 17 Nov 5:07 pm, Colombo 6, Colombo  Rs 187,000,000   \n",
       "4      Posted on 17 Nov 5:06 pm, Dehiwala, Colombo    Rs 1,300,000   \n",
       "\n",
       "                                Address Baths     Land size Beds  \\\n",
       "0     Gangodagama Roard,Hakmana,Matara.     1  50.0 perches    3   \n",
       "1            Athurugiriya Galwarusapare     3   8.0 perches    3   \n",
       "2     Kelaniya- Ranaviru Maldeniya Road     2  20.0 perches    3   \n",
       "3  Pamankada Lane Wellawatte Colombo.06     5  22.0 perches    5   \n",
       "4                     MainRoad Attidiya     1   6.3 perches    2   \n",
       "\n",
       "     House size                 Location  \\\n",
       "0  1,600.0 sqft     Matara City,  Matara   \n",
       "1  1,480.0 sqft   Athurugiriya,  Colombo   \n",
       "2  2,800.0 sqft       Kelaniya,  Gampaha   \n",
       "3  4,000.0 sqft      Colombo 6,  Colombo   \n",
       "4    900.0 sqft       Dehiwala,  Colombo   \n",
       "\n",
       "                                         Description  \\\n",
       "0  Land for sale with house Matara,Hakmana Gangod...   \n",
       "1  *House For Sale In Athurugiriya *Galwarusapare...   \n",
       "2  Kelaniya- Biyagama road, Ranaviru Maladeniya R...   \n",
       "3  22 Perches House For Sale in Pamankada Lane We...   \n",
       "4  *à¶\n",
       "à¶­à·à¶­à·à¶©à·à¶º à¶´à·âà¶»à¶¯à·à·...   \n",
       "\n",
       "                                            Post_URL  \\\n",
       "0  https://ikman.lk/en/ad/house-with-land-for-sal...   \n",
       "1  https://ikman.lk/en/ad/alut-kaamr-3-k-grh-bhaa...   \n",
       "2  https://ikman.lk/en/ad/kelaniya-house-on-20p-l...   \n",
       "3  https://ikman.lk/en/ad/house-for-sale-in-paman...   \n",
       "4  https://ikman.lk/en/ad/house-for-sale-attidiya...   \n",
       "\n",
       "                                Seller_name     Seller_type  \\\n",
       "0                            Ishara Dilshan          Member   \n",
       "1                      DILRUWAN REAL ESTATE  Premium-Member   \n",
       "2              Provident Paradise (Pvt) Ltd          Member   \n",
       "3  Colombo Construction Property Developers  Premium-Member   \n",
       "4                            Lakdinu Houses          Member   \n",
       "\n",
       "        published_date                       Geo_Address        Lat       Lon  \n",
       "0  2021-11-06 14:32:00    Matara City, Matara, Sri Lanka  80.500000  6.166670  \n",
       "1  2021-10-24 07:27:00  Athurugiriya, Colombo, Sri Lanka  79.989929  6.877246  \n",
       "2  2021-11-17 17:19:00      Kelaniya, Gampaha, Sri Lanka  79.914926  6.951178  \n",
       "3  2021-11-17 17:07:00     Colombo 6, Colombo, Sri Lanka  80.016670  6.866670  \n",
       "4  2021-11-17 17:06:00      Dehiwala, Colombo, Sri Lanka  79.880242  6.838232  "
      ]
     },
     "execution_count": 3,
     "metadata": {},
     "output_type": "execute_result"
    }
   ],
   "source": [
    "df1 = pd.read_csv(\"house_prices.csv\")\n",
    "df1.head()"
   ]
  },
  {
   "cell_type": "code",
   "execution_count": 4,
   "id": "1ae667e5-47f8-49ee-b7c7-4c815a9e0602",
   "metadata": {},
   "outputs": [
    {
     "data": {
      "text/plain": [
       "(15327, 17)"
      ]
     },
     "execution_count": 4,
     "metadata": {},
     "output_type": "execute_result"
    }
   ],
   "source": [
    "df1.shape"
   ]
  },
  {
   "cell_type": "code",
   "execution_count": 5,
   "id": "ec89a99f-aa20-4d9e-a063-b35151057c66",
   "metadata": {},
   "outputs": [
    {
     "data": {
      "text/plain": [
       "Index(['Title', 'Sub_title', 'Price', 'Address', 'Baths', 'Land size', 'Beds',\n",
       "       'House size', 'Location', 'Description', 'Post_URL', 'Seller_name',\n",
       "       'Seller_type', 'published_date', 'Geo_Address', 'Lat', 'Lon'],\n",
       "      dtype='object')"
      ]
     },
     "execution_count": 5,
     "metadata": {},
     "output_type": "execute_result"
    }
   ],
   "source": [
    "df1.columns"
   ]
  },
  {
   "cell_type": "code",
   "execution_count": 6,
   "id": "a50bc142-064c-4068-9550-9c19a79686cf",
   "metadata": {},
   "outputs": [
    {
     "data": {
      "text/plain": [
       "array([' Matara City,  Matara', ' Athurugiriya,  Colombo',\n",
       "       ' Kelaniya,  Gampaha', ' Colombo 6,  Colombo',\n",
       "       ' Dehiwala,  Colombo', ' Talawatugoda,  Colombo',\n",
       "       ' Kandy City,  Kandy', ' Piliyandala,  Colombo',\n",
       "       ' Kadawatha,  Gampaha', ' Gampaha City,  Gampaha',\n",
       "       ' Katugastota,  Kandy', ' Negombo,  Gampaha', ' Malabe,  Colombo',\n",
       "       ' Jaffna City,  Jaffna', ' Rajagiriya,  Colombo',\n",
       "       ' Mount Lavinia,  Colombo', ' Battaramulla,  Colombo',\n",
       "       ' Moratuwa,  Colombo', ' Nugegoda,  Colombo', ' Kottawa,  Colombo',\n",
       "       ' Homagama,  Colombo', ' Minuwangoda,  Gampaha',\n",
       "       ' Elpitiya,  Galle', ' Gampola,  Kandy', ' Karapitiya,  Galle',\n",
       "       ' Colombo 9,  Colombo', ' Ratmalana,  Colombo',\n",
       "       ' Kalutara City,  Kalutara', ' Boralesgamuwa,  Colombo',\n",
       "       ' Baddegama,  Galle', ' Kotte,  Colombo', ' Kandana,  Gampaha',\n",
       "       ' Kurunegala City,  Kurunegala', ' Nittambuwa,  Gampaha',\n",
       "       ' Ragama,  Gampaha', ' Ja-Ela,  Gampaha', ' Chilaw,  Puttalam',\n",
       "       ' Padukka,  Colombo', ' Horana,  Kalutara',\n",
       "       ' Wellampitiya,  Colombo', ' Monaragala City,  Monaragala',\n",
       "       ' Colombo 5,  Colombo', ' Kaduwela,  Colombo',\n",
       "       ' Colombo 3,  Colombo', ' Kohuwala,  Colombo',\n",
       "       ' Pannipitiya,  Colombo', ' Kolonnawa,  Colombo',\n",
       "       ' Matugama,  Kalutara', ' Ganemulla,  Gampaha',\n",
       "       ' Dikwella,  Matara', ' Angoda,  Colombo', ' Delgoda,  Gampaha',\n",
       "       ' Wadduwa,  Kalutara', ' Ruwanwella,  Kegalle',\n",
       "       ' Colombo 7,  Colombo', ' Yatiyantota,  Kegalle',\n",
       "       ' Colombo 4,  Colombo', ' Dambulla,  Matale',\n",
       "       ' Ambalangoda,  Galle', ' Weligama,  Matara',\n",
       "       ' Colombo 15,  Colombo', ' Haputale,  Badulla',\n",
       "       ' Beliatta,  Hambantota', ' Kesbewa,  Colombo',\n",
       "       ' Wattala,  Gampaha', ' Wennappuwa,  Puttalam',\n",
       "       ' Eheliyagoda,  Ratnapura', ' Peradeniya,  Kandy',\n",
       "       ' Digana,  Kandy', ' Mawathagama,  Kurunegala',\n",
       "       ' Anuradhapura City,  Anuradhapura', ' Ratnapura City,  Ratnapura',\n",
       "       ' Panadura,  Kalutara', ' Nawala,  Colombo',\n",
       "       ' Veyangoda,  Gampaha', ' Ingiriya,  Kalutara',\n",
       "       ' Maharagama,  Colombo', ' Kundasale,  Kandy',\n",
       "       ' Deniyaya,  Matara', ' Divulapitiya,  Gampaha',\n",
       "       ' Narammala,  Kurunegala', ' Kiribathgoda,  Gampaha',\n",
       "       ' Colombo 8,  Colombo', ' Hikkaduwa,  Galle',\n",
       "       ' Katunayake,  Gampaha', ' Alutgama,  Kalutara',\n",
       "       ' Galle City,  Galle', ' Colombo 10,  Colombo',\n",
       "       ' Bandaragama,  Kalutara', ' Seeduwa,  Gampaha',\n",
       "       ' Batticaloa City,  Batticaloa', ' Wariyapola,  Kurunegala',\n",
       "       ' Ukuwela,  Matale', ' Badulla City,  Badulla',\n",
       "       ' Nuwara Eliya City,  Nuwara Eliya', ' Colombo 12,  Colombo',\n",
       "       ' Matale City,  Matale', ' Kegalle City,  Kegalle',\n",
       "       ' Pilimatalawa,  Kandy', ' Mahiyanganaya,  Badulla',\n",
       "       ' Hambantota City,  Hambantota', ' Beruwala,  Kalutara',\n",
       "       ' Polonnaruwa City,  Polonnaruwa', ' Puttalam City,  Puttalam',\n",
       "       ' Gelioya,  Kandy', ' Ampitiya,  Kandy', ' Balangoda,  Ratnapura',\n",
       "       ' Tangalla,  Hambantota', ' Mawanella,  Kegalle',\n",
       "       ' Avissawella,  Colombo', ' Kataragama,  Monaragala',\n",
       "       ' Nikaweratiya,  Kurunegala', ' Meegoda,  Colombo',\n",
       "       ' Colombo 13,  Colombo', ' Hanwella,  Colombo',\n",
       "       ' Hingurakgoda,  Polonnaruwa', ' Dankotuwa,  Puttalam',\n",
       "       ' Embilipitiya,  Ratnapura', ' Bandarawela,  Badulla',\n",
       "       ' Kadugannawa,  Kandy', ' Mannar City,  Mannar',\n",
       "       ' Batapola,  Galle', ' Ahangama,  Galle', ' Nallur,  Jaffna',\n",
       "       ' Ambalantota,  Hambantota', ' Hakmana,  Matara',\n",
       "       ' Pelmadulla,  Ratnapura', ' Kamburugamuwa,  Matara',\n",
       "       ' Colombo 2,  Colombo', ' Kekanadurra,  Matara',\n",
       "       ' Mirigama,  Gampaha', ' Godagama,  Colombo',\n",
       "       ' Rambukkana,  Kegalle', ' Buttala,  Monaragala',\n",
       "       ' Alawwa,  Kurunegala', ' Kuliyapitiya,  Kurunegala',\n",
       "       ' Akuressa,  Matara', ' Menikhinna,  Kandy',\n",
       "       ' Nawalapitiya,  Kandy', ' Colombo 14,  Colombo',\n",
       "       ' Giriulla,  Kurunegala', ' Tissamaharama,  Hambantota',\n",
       "       ' Wattegama,  Kandy', ' Ella,  Badulla', ' Dehiowita,  Kegalle',\n",
       "       ' Trincomalee City,  Trincomalee', ' Ampara City,  Ampara',\n",
       "       ' Hatton,  Nuwara Eliya', ' Hettipola,  Kurunegala',\n",
       "       ' Kitulgala,  Kegalle', ' Ibbagamuwa,  Kurunegala',\n",
       "       ' Galewela,  Matale', ' Warakapola,  Kegalle',\n",
       "       ' Kalmunai,  Ampara', ' Welimada,  Badulla',\n",
       "       ' Kuruwita,  Ratnapura', ' Bibile,  Monaragala',\n",
       "       ' Akkarepattu,  Ampara', ' Nochchiyagama,  Anuradhapura',\n",
       "       ' Pannala,  Kurunegala', ' Palapathwela,  Matale',\n",
       "       ' Mihintale,  Anuradhapura', ' Galnewa,  Anuradhapura',\n",
       "       ' Mullativu City,  Mullativu', ' Medirigiriya,  Polonnaruwa',\n",
       "       ' Vavuniya City,  Vavuniya', ' Eppawala,  Anuradhapura',\n",
       "       ' Polgahawela,  Kurunegala', ' Galigamuwa,  Kegalle',\n",
       "       ' Galgamuwa,  Kurunegala', ' Colombo 1,  Colombo',\n",
       "       ' Wellawaya,  Monaragala'], dtype=object)"
      ]
     },
     "execution_count": 6,
     "metadata": {},
     "output_type": "execute_result"
    }
   ],
   "source": [
    "df1['Location'].unique()"
   ]
  },
  {
   "cell_type": "code",
   "execution_count": 7,
   "id": "5fd761bf-91ec-4be7-9e78-04cb2c76c528",
   "metadata": {},
   "outputs": [
    {
     "data": {
      "text/plain": [
       "Location\n",
       " Piliyandala,  Colombo      2806\n",
       " Malabe,  Colombo           1590\n",
       " Negombo,  Gampaha          1363\n",
       " Talawatugoda,  Colombo     1296\n",
       " Kottawa,  Colombo           750\n",
       "                            ... \n",
       " Ibbagamuwa,  Kurunegala       1\n",
       " Kitulgala,  Kegalle           1\n",
       " Giriulla,  Kurunegala         1\n",
       " Haputale,  Badulla            1\n",
       " Wellawaya,  Monaragala        1\n",
       "Name: count, Length: 172, dtype: int64"
      ]
     },
     "execution_count": 7,
     "metadata": {},
     "output_type": "execute_result"
    }
   ],
   "source": [
    "df1['Location'].value_counts()"
   ]
  },
  {
   "cell_type": "code",
   "execution_count": 8,
   "id": "143d1cc4-6dac-4e49-b756-8a99f0f5f0b6",
   "metadata": {},
   "outputs": [
    {
     "data": {
      "text/plain": [
       "Location\n",
       " Ahangama,  Galle            8\n",
       " Akkarepattu,  Ampara        1\n",
       " Akuressa,  Matara           7\n",
       " Alawwa,  Kurunegala         3\n",
       " Alutgama,  Kalutara         5\n",
       "                          ... \n",
       " Welimada,  Badulla          4\n",
       " Wellampitiya,  Colombo    150\n",
       " Wellawaya,  Monaragala      1\n",
       " Wennappuwa,  Puttalam       7\n",
       " Yatiyantota,  Kegalle       3\n",
       "Name: Location, Length: 172, dtype: int64"
      ]
     },
     "execution_count": 8,
     "metadata": {},
     "output_type": "execute_result"
    }
   ],
   "source": [
    "df1.groupby('Location')['Location'].agg('count')"
   ]
  },
  {
   "cell_type": "code",
   "execution_count": 9,
   "id": "dff10026-43ed-4135-b31c-47d1c2ad0ed2",
   "metadata": {},
   "outputs": [
    {
     "data": {
      "text/html": [
       "<div>\n",
       "<style scoped>\n",
       "    .dataframe tbody tr th:only-of-type {\n",
       "        vertical-align: middle;\n",
       "    }\n",
       "\n",
       "    .dataframe tbody tr th {\n",
       "        vertical-align: top;\n",
       "    }\n",
       "\n",
       "    .dataframe thead th {\n",
       "        text-align: right;\n",
       "    }\n",
       "</style>\n",
       "<table border=\"1\" class=\"dataframe\">\n",
       "  <thead>\n",
       "    <tr style=\"text-align: right;\">\n",
       "      <th></th>\n",
       "      <th>Title</th>\n",
       "      <th>Sub_title</th>\n",
       "      <th>Price</th>\n",
       "      <th>Address</th>\n",
       "      <th>Baths</th>\n",
       "      <th>Land size</th>\n",
       "      <th>Beds</th>\n",
       "      <th>House size</th>\n",
       "      <th>Location</th>\n",
       "      <th>Description</th>\n",
       "      <th>Post_URL</th>\n",
       "      <th>Seller_name</th>\n",
       "      <th>Seller_type</th>\n",
       "      <th>published_date</th>\n",
       "      <th>Geo_Address</th>\n",
       "      <th>Lat</th>\n",
       "      <th>Lon</th>\n",
       "    </tr>\n",
       "  </thead>\n",
       "  <tbody>\n",
       "    <tr>\n",
       "      <th>0</th>\n",
       "      <td>House with Land for Sale in Matara for sale</td>\n",
       "      <td>Posted on 06 Nov 2:32 pm, Matara City, Matara</td>\n",
       "      <td>Rs 5,400,000</td>\n",
       "      <td>Gangodagama Roard,Hakmana,Matara.</td>\n",
       "      <td>1</td>\n",
       "      <td>50.0 perches</td>\n",
       "      <td>3</td>\n",
       "      <td>1,600.0 sqft</td>\n",
       "      <td>Matara City,  Matara</td>\n",
       "      <td>Land for sale with house Matara,Hakmana Gangod...</td>\n",
       "      <td>https://ikman.lk/en/ad/house-with-land-for-sal...</td>\n",
       "      <td>Ishara Dilshan</td>\n",
       "      <td>Member</td>\n",
       "      <td>2021-11-06 14:32:00</td>\n",
       "      <td>Matara City, Matara, Sri Lanka</td>\n",
       "      <td>80.5</td>\n",
       "      <td>6.16667</td>\n",
       "    </tr>\n",
       "  </tbody>\n",
       "</table>\n",
       "</div>"
      ],
      "text/plain": [
       "                                         Title  \\\n",
       "0  House with Land for Sale in Matara for sale   \n",
       "\n",
       "                                       Sub_title         Price  \\\n",
       "0  Posted on 06 Nov 2:32 pm, Matara City, Matara  Rs 5,400,000   \n",
       "\n",
       "                             Address Baths     Land size Beds    House size  \\\n",
       "0  Gangodagama Roard,Hakmana,Matara.     1  50.0 perches    3  1,600.0 sqft   \n",
       "\n",
       "                Location                                        Description  \\\n",
       "0   Matara City,  Matara  Land for sale with house Matara,Hakmana Gangod...   \n",
       "\n",
       "                                            Post_URL     Seller_name  \\\n",
       "0  https://ikman.lk/en/ad/house-with-land-for-sal...  Ishara Dilshan   \n",
       "\n",
       "  Seller_type       published_date                     Geo_Address   Lat  \\\n",
       "0      Member  2021-11-06 14:32:00  Matara City, Matara, Sri Lanka  80.5   \n",
       "\n",
       "       Lon  \n",
       "0  6.16667  "
      ]
     },
     "execution_count": 9,
     "metadata": {},
     "output_type": "execute_result"
    }
   ],
   "source": [
    "df1.head(1)"
   ]
  },
  {
   "cell_type": "markdown",
   "id": "7edf629f-8691-4634-9206-57424475c6fd",
   "metadata": {},
   "source": [
    "## Drop features that are not required to build model\n",
    "\n"
   ]
  },
  {
   "cell_type": "code",
   "execution_count": 10,
   "id": "99b7ac54-d29d-4b83-b9eb-8a21996e6387",
   "metadata": {},
   "outputs": [],
   "source": [
    "df2 = df1.drop(['Title','Sub_title','Address','Description','Post_URL','Seller_name','Seller_type','published_date','Geo_Address','Lat','Lon'],axis='columns')"
   ]
  },
  {
   "cell_type": "code",
   "execution_count": 11,
   "id": "4e8b011f-b853-4c35-abea-077321cc92e3",
   "metadata": {},
   "outputs": [
    {
     "data": {
      "text/html": [
       "<div>\n",
       "<style scoped>\n",
       "    .dataframe tbody tr th:only-of-type {\n",
       "        vertical-align: middle;\n",
       "    }\n",
       "\n",
       "    .dataframe tbody tr th {\n",
       "        vertical-align: top;\n",
       "    }\n",
       "\n",
       "    .dataframe thead th {\n",
       "        text-align: right;\n",
       "    }\n",
       "</style>\n",
       "<table border=\"1\" class=\"dataframe\">\n",
       "  <thead>\n",
       "    <tr style=\"text-align: right;\">\n",
       "      <th></th>\n",
       "      <th>Price</th>\n",
       "      <th>Baths</th>\n",
       "      <th>Land size</th>\n",
       "      <th>Beds</th>\n",
       "      <th>House size</th>\n",
       "      <th>Location</th>\n",
       "    </tr>\n",
       "  </thead>\n",
       "  <tbody>\n",
       "    <tr>\n",
       "      <th>0</th>\n",
       "      <td>Rs 5,400,000</td>\n",
       "      <td>1</td>\n",
       "      <td>50.0 perches</td>\n",
       "      <td>3</td>\n",
       "      <td>1,600.0 sqft</td>\n",
       "      <td>Matara City,  Matara</td>\n",
       "    </tr>\n",
       "    <tr>\n",
       "      <th>1</th>\n",
       "      <td>Rs 16,800,000</td>\n",
       "      <td>3</td>\n",
       "      <td>8.0 perches</td>\n",
       "      <td>3</td>\n",
       "      <td>1,480.0 sqft</td>\n",
       "      <td>Athurugiriya,  Colombo</td>\n",
       "    </tr>\n",
       "    <tr>\n",
       "      <th>2</th>\n",
       "      <td>Rs 20,000,000</td>\n",
       "      <td>2</td>\n",
       "      <td>20.0 perches</td>\n",
       "      <td>3</td>\n",
       "      <td>2,800.0 sqft</td>\n",
       "      <td>Kelaniya,  Gampaha</td>\n",
       "    </tr>\n",
       "    <tr>\n",
       "      <th>3</th>\n",
       "      <td>Rs 187,000,000</td>\n",
       "      <td>5</td>\n",
       "      <td>22.0 perches</td>\n",
       "      <td>5</td>\n",
       "      <td>4,000.0 sqft</td>\n",
       "      <td>Colombo 6,  Colombo</td>\n",
       "    </tr>\n",
       "    <tr>\n",
       "      <th>4</th>\n",
       "      <td>Rs 1,300,000</td>\n",
       "      <td>1</td>\n",
       "      <td>6.3 perches</td>\n",
       "      <td>2</td>\n",
       "      <td>900.0 sqft</td>\n",
       "      <td>Dehiwala,  Colombo</td>\n",
       "    </tr>\n",
       "  </tbody>\n",
       "</table>\n",
       "</div>"
      ],
      "text/plain": [
       "            Price Baths     Land size Beds    House size  \\\n",
       "0    Rs 5,400,000     1  50.0 perches    3  1,600.0 sqft   \n",
       "1   Rs 16,800,000     3   8.0 perches    3  1,480.0 sqft   \n",
       "2   Rs 20,000,000     2  20.0 perches    3  2,800.0 sqft   \n",
       "3  Rs 187,000,000     5  22.0 perches    5  4,000.0 sqft   \n",
       "4    Rs 1,300,000     1   6.3 perches    2    900.0 sqft   \n",
       "\n",
       "                  Location  \n",
       "0     Matara City,  Matara  \n",
       "1   Athurugiriya,  Colombo  \n",
       "2       Kelaniya,  Gampaha  \n",
       "3      Colombo 6,  Colombo  \n",
       "4       Dehiwala,  Colombo  "
      ]
     },
     "execution_count": 11,
     "metadata": {},
     "output_type": "execute_result"
    }
   ],
   "source": [
    "df2.head()"
   ]
  },
  {
   "cell_type": "code",
   "execution_count": 12,
   "id": "d9d0aa4c-5103-450f-81a8-3126192f5c73",
   "metadata": {},
   "outputs": [
    {
     "data": {
      "text/plain": [
       "(15327, 6)"
      ]
     },
     "execution_count": 12,
     "metadata": {},
     "output_type": "execute_result"
    }
   ],
   "source": [
    "df2.shape"
   ]
  },
  {
   "cell_type": "markdown",
   "id": "2a5e000a-5c15-484f-9d9b-e61208c0640e",
   "metadata": {},
   "source": [
    "## Data Cleaning: Handle NALL values\n"
   ]
  },
  {
   "cell_type": "code",
   "execution_count": 13,
   "id": "86d4abb5-33f8-4bbc-95fd-83310156b7f1",
   "metadata": {},
   "outputs": [
    {
     "data": {
      "text/plain": [
       "Price         0\n",
       "Baths         0\n",
       "Land size     0\n",
       "Beds          0\n",
       "House size    0\n",
       "Location      0\n",
       "dtype: int64"
      ]
     },
     "execution_count": 13,
     "metadata": {},
     "output_type": "execute_result"
    }
   ],
   "source": [
    "df2.isnull().sum()"
   ]
  },
  {
   "cell_type": "markdown",
   "id": "07b4b205-83a1-4764-a8f7-0f05e1e8d6eb",
   "metadata": {},
   "source": [
    "## Feature Engineering"
   ]
  },
  {
   "cell_type": "markdown",
   "id": "5ce7f1d0-d578-4a61-86bf-2330a0de0fa9",
   "metadata": {},
   "source": [
    "#### Add new feature(float) for LSP (Land size perches)"
   ]
  },
  {
   "cell_type": "code",
   "execution_count": 14,
   "id": "13f9c28d-9ebf-4cac-a413-0d4eb8148029",
   "metadata": {},
   "outputs": [],
   "source": [
    "df3 = df2.copy()\n",
    "def convert_land_size(size_str):\n",
    "    try:\n",
    "        # Remove commas\n",
    "        size_str = size_str.replace(',', '')\n",
    "        # Split by space and take the first part\n",
    "        size_float = float(size_str.split(' ')[0])\n",
    "        return size_float\n",
    "    except ValueError:\n",
    "        \n",
    "        return None\n",
    "\n",
    "df3['LSP'] = df3['Land size'].apply(convert_land_size)\n"
   ]
  },
  {
   "cell_type": "code",
   "execution_count": 15,
   "id": "93f18e41-968a-4124-921a-3a7e5bd17bd4",
   "metadata": {},
   "outputs": [
    {
     "data": {
      "text/html": [
       "<div>\n",
       "<style scoped>\n",
       "    .dataframe tbody tr th:only-of-type {\n",
       "        vertical-align: middle;\n",
       "    }\n",
       "\n",
       "    .dataframe tbody tr th {\n",
       "        vertical-align: top;\n",
       "    }\n",
       "\n",
       "    .dataframe thead th {\n",
       "        text-align: right;\n",
       "    }\n",
       "</style>\n",
       "<table border=\"1\" class=\"dataframe\">\n",
       "  <thead>\n",
       "    <tr style=\"text-align: right;\">\n",
       "      <th></th>\n",
       "      <th>Price</th>\n",
       "      <th>Baths</th>\n",
       "      <th>Land size</th>\n",
       "      <th>Beds</th>\n",
       "      <th>House size</th>\n",
       "      <th>Location</th>\n",
       "      <th>LSP</th>\n",
       "    </tr>\n",
       "  </thead>\n",
       "  <tbody>\n",
       "    <tr>\n",
       "      <th>0</th>\n",
       "      <td>Rs 5,400,000</td>\n",
       "      <td>1</td>\n",
       "      <td>50.0 perches</td>\n",
       "      <td>3</td>\n",
       "      <td>1,600.0 sqft</td>\n",
       "      <td>Matara City,  Matara</td>\n",
       "      <td>50.0</td>\n",
       "    </tr>\n",
       "    <tr>\n",
       "      <th>1</th>\n",
       "      <td>Rs 16,800,000</td>\n",
       "      <td>3</td>\n",
       "      <td>8.0 perches</td>\n",
       "      <td>3</td>\n",
       "      <td>1,480.0 sqft</td>\n",
       "      <td>Athurugiriya,  Colombo</td>\n",
       "      <td>8.0</td>\n",
       "    </tr>\n",
       "    <tr>\n",
       "      <th>2</th>\n",
       "      <td>Rs 20,000,000</td>\n",
       "      <td>2</td>\n",
       "      <td>20.0 perches</td>\n",
       "      <td>3</td>\n",
       "      <td>2,800.0 sqft</td>\n",
       "      <td>Kelaniya,  Gampaha</td>\n",
       "      <td>20.0</td>\n",
       "    </tr>\n",
       "    <tr>\n",
       "      <th>3</th>\n",
       "      <td>Rs 187,000,000</td>\n",
       "      <td>5</td>\n",
       "      <td>22.0 perches</td>\n",
       "      <td>5</td>\n",
       "      <td>4,000.0 sqft</td>\n",
       "      <td>Colombo 6,  Colombo</td>\n",
       "      <td>22.0</td>\n",
       "    </tr>\n",
       "    <tr>\n",
       "      <th>4</th>\n",
       "      <td>Rs 1,300,000</td>\n",
       "      <td>1</td>\n",
       "      <td>6.3 perches</td>\n",
       "      <td>2</td>\n",
       "      <td>900.0 sqft</td>\n",
       "      <td>Dehiwala,  Colombo</td>\n",
       "      <td>6.3</td>\n",
       "    </tr>\n",
       "  </tbody>\n",
       "</table>\n",
       "</div>"
      ],
      "text/plain": [
       "            Price Baths     Land size Beds    House size  \\\n",
       "0    Rs 5,400,000     1  50.0 perches    3  1,600.0 sqft   \n",
       "1   Rs 16,800,000     3   8.0 perches    3  1,480.0 sqft   \n",
       "2   Rs 20,000,000     2  20.0 perches    3  2,800.0 sqft   \n",
       "3  Rs 187,000,000     5  22.0 perches    5  4,000.0 sqft   \n",
       "4    Rs 1,300,000     1   6.3 perches    2    900.0 sqft   \n",
       "\n",
       "                  Location   LSP  \n",
       "0     Matara City,  Matara  50.0  \n",
       "1   Athurugiriya,  Colombo   8.0  \n",
       "2       Kelaniya,  Gampaha  20.0  \n",
       "3      Colombo 6,  Colombo  22.0  \n",
       "4       Dehiwala,  Colombo   6.3  "
      ]
     },
     "execution_count": 15,
     "metadata": {},
     "output_type": "execute_result"
    }
   ],
   "source": [
    "df3.head()"
   ]
  },
  {
   "cell_type": "code",
   "execution_count": 16,
   "id": "1233345c-14af-4c70-8f85-3eefc0bb6b84",
   "metadata": {},
   "outputs": [
    {
     "data": {
      "text/plain": [
       "LSP\n",
       "10.00     2624\n",
       "7.00       775\n",
       "8.00       764\n",
       "7.50       705\n",
       "6.00       657\n",
       "          ... \n",
       "35.20        1\n",
       "6.72         1\n",
       "285.00       1\n",
       "18.26        1\n",
       "24.30        1\n",
       "Name: count, Length: 630, dtype: int64"
      ]
     },
     "execution_count": 16,
     "metadata": {},
     "output_type": "execute_result"
    }
   ],
   "source": [
    "df3['LSP'].value_counts()"
   ]
  },
  {
   "cell_type": "code",
   "execution_count": 17,
   "id": "6eef3ede-32e6-4e3a-a23b-44127b47f273",
   "metadata": {},
   "outputs": [
    {
     "data": {
      "text/html": [
       "<div>\n",
       "<style scoped>\n",
       "    .dataframe tbody tr th:only-of-type {\n",
       "        vertical-align: middle;\n",
       "    }\n",
       "\n",
       "    .dataframe tbody tr th {\n",
       "        vertical-align: top;\n",
       "    }\n",
       "\n",
       "    .dataframe thead th {\n",
       "        text-align: right;\n",
       "    }\n",
       "</style>\n",
       "<table border=\"1\" class=\"dataframe\">\n",
       "  <thead>\n",
       "    <tr style=\"text-align: right;\">\n",
       "      <th></th>\n",
       "      <th>Price</th>\n",
       "      <th>Baths</th>\n",
       "      <th>Land size</th>\n",
       "      <th>Beds</th>\n",
       "      <th>House size</th>\n",
       "      <th>Location</th>\n",
       "      <th>LSP</th>\n",
       "    </tr>\n",
       "  </thead>\n",
       "  <tbody>\n",
       "    <tr>\n",
       "      <th>2839</th>\n",
       "      <td>Rs 5,500,000</td>\n",
       "      <td>1</td>\n",
       "      <td>3,500.0 perches</td>\n",
       "      <td>4</td>\n",
       "      <td>16.0 sqft</td>\n",
       "      <td>Ambalangoda,  Galle</td>\n",
       "      <td>3500.0</td>\n",
       "    </tr>\n",
       "    <tr>\n",
       "      <th>3458</th>\n",
       "      <td>Rs 29,000,000</td>\n",
       "      <td>3</td>\n",
       "      <td>3,200.0 perches</td>\n",
       "      <td>4</td>\n",
       "      <td>3,200.0 sqft</td>\n",
       "      <td>Gampaha City,  Gampaha</td>\n",
       "      <td>3200.0</td>\n",
       "    </tr>\n",
       "    <tr>\n",
       "      <th>6998</th>\n",
       "      <td>Rs 40,000,000</td>\n",
       "      <td>2</td>\n",
       "      <td>3,300.0 perches</td>\n",
       "      <td>3</td>\n",
       "      <td>7.0 sqft</td>\n",
       "      <td>Talawatugoda,  Colombo</td>\n",
       "      <td>3300.0</td>\n",
       "    </tr>\n",
       "    <tr>\n",
       "      <th>7282</th>\n",
       "      <td>Rs 26,500,000</td>\n",
       "      <td>3</td>\n",
       "      <td>3,200.0 perches</td>\n",
       "      <td>4</td>\n",
       "      <td>8,712.0 sqft</td>\n",
       "      <td>Kadawatha,  Gampaha</td>\n",
       "      <td>3200.0</td>\n",
       "    </tr>\n",
       "    <tr>\n",
       "      <th>9227</th>\n",
       "      <td>Rs 105,000,000</td>\n",
       "      <td>4</td>\n",
       "      <td>3,500.0 perches</td>\n",
       "      <td>4</td>\n",
       "      <td>2,150.0 sqft</td>\n",
       "      <td>Nugegoda,  Colombo</td>\n",
       "      <td>3500.0</td>\n",
       "    </tr>\n",
       "    <tr>\n",
       "      <th>9789</th>\n",
       "      <td>Rs 25,000,000</td>\n",
       "      <td>2</td>\n",
       "      <td>5,445.0 perches</td>\n",
       "      <td>5</td>\n",
       "      <td>480.0 sqft</td>\n",
       "      <td>Katugastota,  Kandy</td>\n",
       "      <td>5445.0</td>\n",
       "    </tr>\n",
       "    <tr>\n",
       "      <th>15302</th>\n",
       "      <td>Rs 26,500,000</td>\n",
       "      <td>3</td>\n",
       "      <td>3,200.0 perches</td>\n",
       "      <td>4</td>\n",
       "      <td>8,712.0 sqft</td>\n",
       "      <td>Kadawatha,  Gampaha</td>\n",
       "      <td>3200.0</td>\n",
       "    </tr>\n",
       "  </tbody>\n",
       "</table>\n",
       "</div>"
      ],
      "text/plain": [
       "                Price Baths        Land size Beds    House size  \\\n",
       "2839     Rs 5,500,000     1  3,500.0 perches    4     16.0 sqft   \n",
       "3458    Rs 29,000,000     3  3,200.0 perches    4  3,200.0 sqft   \n",
       "6998    Rs 40,000,000     2  3,300.0 perches    3      7.0 sqft   \n",
       "7282    Rs 26,500,000     3  3,200.0 perches    4  8,712.0 sqft   \n",
       "9227   Rs 105,000,000     4  3,500.0 perches    4  2,150.0 sqft   \n",
       "9789    Rs 25,000,000     2  5,445.0 perches    5    480.0 sqft   \n",
       "15302   Rs 26,500,000     3  3,200.0 perches    4  8,712.0 sqft   \n",
       "\n",
       "                      Location     LSP  \n",
       "2839       Ambalangoda,  Galle  3500.0  \n",
       "3458    Gampaha City,  Gampaha  3200.0  \n",
       "6998    Talawatugoda,  Colombo  3300.0  \n",
       "7282       Kadawatha,  Gampaha  3200.0  \n",
       "9227        Nugegoda,  Colombo  3500.0  \n",
       "9789       Katugastota,  Kandy  5445.0  \n",
       "15302      Kadawatha,  Gampaha  3200.0  "
      ]
     },
     "execution_count": 17,
     "metadata": {},
     "output_type": "execute_result"
    }
   ],
   "source": [
    "df3[df3.LSP>3000]"
   ]
  },
  {
   "cell_type": "code",
   "execution_count": 18,
   "id": "87982f9c-eb25-4885-b695-27db28f0d13d",
   "metadata": {},
   "outputs": [
    {
     "data": {
      "text/html": [
       "<div>\n",
       "<style scoped>\n",
       "    .dataframe tbody tr th:only-of-type {\n",
       "        vertical-align: middle;\n",
       "    }\n",
       "\n",
       "    .dataframe tbody tr th {\n",
       "        vertical-align: top;\n",
       "    }\n",
       "\n",
       "    .dataframe thead th {\n",
       "        text-align: right;\n",
       "    }\n",
       "</style>\n",
       "<table border=\"1\" class=\"dataframe\">\n",
       "  <thead>\n",
       "    <tr style=\"text-align: right;\">\n",
       "      <th></th>\n",
       "      <th>Price</th>\n",
       "      <th>Baths</th>\n",
       "      <th>Land size</th>\n",
       "      <th>Beds</th>\n",
       "      <th>House size</th>\n",
       "      <th>Location</th>\n",
       "      <th>LSP</th>\n",
       "    </tr>\n",
       "  </thead>\n",
       "  <tbody>\n",
       "    <tr>\n",
       "      <th>0</th>\n",
       "      <td>Rs 5,400,000</td>\n",
       "      <td>1</td>\n",
       "      <td>50.0 perches</td>\n",
       "      <td>3</td>\n",
       "      <td>1,600.0 sqft</td>\n",
       "      <td>Matara City,  Matara</td>\n",
       "      <td>50.0</td>\n",
       "    </tr>\n",
       "  </tbody>\n",
       "</table>\n",
       "</div>"
      ],
      "text/plain": [
       "          Price Baths     Land size Beds    House size               Location  \\\n",
       "0  Rs 5,400,000     1  50.0 perches    3  1,600.0 sqft   Matara City,  Matara   \n",
       "\n",
       "    LSP  \n",
       "0  50.0  "
      ]
     },
     "execution_count": 18,
     "metadata": {},
     "output_type": "execute_result"
    }
   ],
   "source": [
    "df3.head(1)"
   ]
  },
  {
   "cell_type": "markdown",
   "id": "9f8232c6-c79b-4709-8984-0ebaa6422fa7",
   "metadata": {},
   "source": [
    "#### Add new feature(float) for HSsqft (House size\tsqft)"
   ]
  },
  {
   "cell_type": "code",
   "execution_count": 19,
   "id": "d81acbaa-1dea-4a7d-bb8e-4bc897cc2ceb",
   "metadata": {},
   "outputs": [],
   "source": [
    "df4 = df3.copy()\n",
    "def convert_house_size(size_str):\n",
    "    try:\n",
    "        # Remove commas\n",
    "        size_str = size_str.replace(',', '')\n",
    "        # Split by space and take the first part\n",
    "        size_float = float(size_str.split(' ')[0])\n",
    "        return size_float\n",
    "    except ValueError:\n",
    "        \n",
    "        return None\n",
    "\n",
    "df4['HSsqft'] = df4['House size'].apply(convert_land_size)\n"
   ]
  },
  {
   "cell_type": "code",
   "execution_count": 20,
   "id": "9c740f5d-a050-44e6-b478-fd2e9c929aca",
   "metadata": {},
   "outputs": [
    {
     "data": {
      "text/html": [
       "<div>\n",
       "<style scoped>\n",
       "    .dataframe tbody tr th:only-of-type {\n",
       "        vertical-align: middle;\n",
       "    }\n",
       "\n",
       "    .dataframe tbody tr th {\n",
       "        vertical-align: top;\n",
       "    }\n",
       "\n",
       "    .dataframe thead th {\n",
       "        text-align: right;\n",
       "    }\n",
       "</style>\n",
       "<table border=\"1\" class=\"dataframe\">\n",
       "  <thead>\n",
       "    <tr style=\"text-align: right;\">\n",
       "      <th></th>\n",
       "      <th>Price</th>\n",
       "      <th>Baths</th>\n",
       "      <th>Land size</th>\n",
       "      <th>Beds</th>\n",
       "      <th>House size</th>\n",
       "      <th>Location</th>\n",
       "      <th>LSP</th>\n",
       "      <th>HSsqft</th>\n",
       "    </tr>\n",
       "  </thead>\n",
       "  <tbody>\n",
       "    <tr>\n",
       "      <th>0</th>\n",
       "      <td>Rs 5,400,000</td>\n",
       "      <td>1</td>\n",
       "      <td>50.0 perches</td>\n",
       "      <td>3</td>\n",
       "      <td>1,600.0 sqft</td>\n",
       "      <td>Matara City,  Matara</td>\n",
       "      <td>50.0</td>\n",
       "      <td>1600.0</td>\n",
       "    </tr>\n",
       "    <tr>\n",
       "      <th>1</th>\n",
       "      <td>Rs 16,800,000</td>\n",
       "      <td>3</td>\n",
       "      <td>8.0 perches</td>\n",
       "      <td>3</td>\n",
       "      <td>1,480.0 sqft</td>\n",
       "      <td>Athurugiriya,  Colombo</td>\n",
       "      <td>8.0</td>\n",
       "      <td>1480.0</td>\n",
       "    </tr>\n",
       "    <tr>\n",
       "      <th>2</th>\n",
       "      <td>Rs 20,000,000</td>\n",
       "      <td>2</td>\n",
       "      <td>20.0 perches</td>\n",
       "      <td>3</td>\n",
       "      <td>2,800.0 sqft</td>\n",
       "      <td>Kelaniya,  Gampaha</td>\n",
       "      <td>20.0</td>\n",
       "      <td>2800.0</td>\n",
       "    </tr>\n",
       "    <tr>\n",
       "      <th>3</th>\n",
       "      <td>Rs 187,000,000</td>\n",
       "      <td>5</td>\n",
       "      <td>22.0 perches</td>\n",
       "      <td>5</td>\n",
       "      <td>4,000.0 sqft</td>\n",
       "      <td>Colombo 6,  Colombo</td>\n",
       "      <td>22.0</td>\n",
       "      <td>4000.0</td>\n",
       "    </tr>\n",
       "    <tr>\n",
       "      <th>4</th>\n",
       "      <td>Rs 1,300,000</td>\n",
       "      <td>1</td>\n",
       "      <td>6.3 perches</td>\n",
       "      <td>2</td>\n",
       "      <td>900.0 sqft</td>\n",
       "      <td>Dehiwala,  Colombo</td>\n",
       "      <td>6.3</td>\n",
       "      <td>900.0</td>\n",
       "    </tr>\n",
       "  </tbody>\n",
       "</table>\n",
       "</div>"
      ],
      "text/plain": [
       "            Price Baths     Land size Beds    House size  \\\n",
       "0    Rs 5,400,000     1  50.0 perches    3  1,600.0 sqft   \n",
       "1   Rs 16,800,000     3   8.0 perches    3  1,480.0 sqft   \n",
       "2   Rs 20,000,000     2  20.0 perches    3  2,800.0 sqft   \n",
       "3  Rs 187,000,000     5  22.0 perches    5  4,000.0 sqft   \n",
       "4    Rs 1,300,000     1   6.3 perches    2    900.0 sqft   \n",
       "\n",
       "                  Location   LSP  HSsqft  \n",
       "0     Matara City,  Matara  50.0  1600.0  \n",
       "1   Athurugiriya,  Colombo   8.0  1480.0  \n",
       "2       Kelaniya,  Gampaha  20.0  2800.0  \n",
       "3      Colombo 6,  Colombo  22.0  4000.0  \n",
       "4       Dehiwala,  Colombo   6.3   900.0  "
      ]
     },
     "execution_count": 20,
     "metadata": {},
     "output_type": "execute_result"
    }
   ],
   "source": [
    "df4.head()"
   ]
  },
  {
   "cell_type": "markdown",
   "id": "ea94c011-6bd5-4c5f-b01a-3d47ae13fe47",
   "metadata": {},
   "source": [
    "#### Remove commas and 'Rs' from Price column"
   ]
  },
  {
   "cell_type": "code",
   "execution_count": 21,
   "id": "58c0898e-513a-41fa-9e87-46204a242191",
   "metadata": {},
   "outputs": [],
   "source": [
    "df4['Price'] = df4['Price'].apply(lambda x: float(x.replace(',', '').split(' ')[1]))"
   ]
  },
  {
   "cell_type": "code",
   "execution_count": 22,
   "id": "801a53e0-28bd-4299-a6d9-3303d3069611",
   "metadata": {},
   "outputs": [
    {
     "data": {
      "text/html": [
       "<div>\n",
       "<style scoped>\n",
       "    .dataframe tbody tr th:only-of-type {\n",
       "        vertical-align: middle;\n",
       "    }\n",
       "\n",
       "    .dataframe tbody tr th {\n",
       "        vertical-align: top;\n",
       "    }\n",
       "\n",
       "    .dataframe thead th {\n",
       "        text-align: right;\n",
       "    }\n",
       "</style>\n",
       "<table border=\"1\" class=\"dataframe\">\n",
       "  <thead>\n",
       "    <tr style=\"text-align: right;\">\n",
       "      <th></th>\n",
       "      <th>Price</th>\n",
       "      <th>Baths</th>\n",
       "      <th>Land size</th>\n",
       "      <th>Beds</th>\n",
       "      <th>House size</th>\n",
       "      <th>Location</th>\n",
       "      <th>LSP</th>\n",
       "      <th>HSsqft</th>\n",
       "    </tr>\n",
       "  </thead>\n",
       "  <tbody>\n",
       "    <tr>\n",
       "      <th>0</th>\n",
       "      <td>5400000.0</td>\n",
       "      <td>1</td>\n",
       "      <td>50.0 perches</td>\n",
       "      <td>3</td>\n",
       "      <td>1,600.0 sqft</td>\n",
       "      <td>Matara City,  Matara</td>\n",
       "      <td>50.0</td>\n",
       "      <td>1600.0</td>\n",
       "    </tr>\n",
       "    <tr>\n",
       "      <th>1</th>\n",
       "      <td>16800000.0</td>\n",
       "      <td>3</td>\n",
       "      <td>8.0 perches</td>\n",
       "      <td>3</td>\n",
       "      <td>1,480.0 sqft</td>\n",
       "      <td>Athurugiriya,  Colombo</td>\n",
       "      <td>8.0</td>\n",
       "      <td>1480.0</td>\n",
       "    </tr>\n",
       "    <tr>\n",
       "      <th>2</th>\n",
       "      <td>20000000.0</td>\n",
       "      <td>2</td>\n",
       "      <td>20.0 perches</td>\n",
       "      <td>3</td>\n",
       "      <td>2,800.0 sqft</td>\n",
       "      <td>Kelaniya,  Gampaha</td>\n",
       "      <td>20.0</td>\n",
       "      <td>2800.0</td>\n",
       "    </tr>\n",
       "    <tr>\n",
       "      <th>3</th>\n",
       "      <td>187000000.0</td>\n",
       "      <td>5</td>\n",
       "      <td>22.0 perches</td>\n",
       "      <td>5</td>\n",
       "      <td>4,000.0 sqft</td>\n",
       "      <td>Colombo 6,  Colombo</td>\n",
       "      <td>22.0</td>\n",
       "      <td>4000.0</td>\n",
       "    </tr>\n",
       "    <tr>\n",
       "      <th>4</th>\n",
       "      <td>1300000.0</td>\n",
       "      <td>1</td>\n",
       "      <td>6.3 perches</td>\n",
       "      <td>2</td>\n",
       "      <td>900.0 sqft</td>\n",
       "      <td>Dehiwala,  Colombo</td>\n",
       "      <td>6.3</td>\n",
       "      <td>900.0</td>\n",
       "    </tr>\n",
       "  </tbody>\n",
       "</table>\n",
       "</div>"
      ],
      "text/plain": [
       "         Price Baths     Land size Beds    House size  \\\n",
       "0    5400000.0     1  50.0 perches    3  1,600.0 sqft   \n",
       "1   16800000.0     3   8.0 perches    3  1,480.0 sqft   \n",
       "2   20000000.0     2  20.0 perches    3  2,800.0 sqft   \n",
       "3  187000000.0     5  22.0 perches    5  4,000.0 sqft   \n",
       "4    1300000.0     1   6.3 perches    2    900.0 sqft   \n",
       "\n",
       "                  Location   LSP  HSsqft  \n",
       "0     Matara City,  Matara  50.0  1600.0  \n",
       "1   Athurugiriya,  Colombo   8.0  1480.0  \n",
       "2       Kelaniya,  Gampaha  20.0  2800.0  \n",
       "3      Colombo 6,  Colombo  22.0  4000.0  \n",
       "4       Dehiwala,  Colombo   6.3   900.0  "
      ]
     },
     "execution_count": 22,
     "metadata": {},
     "output_type": "execute_result"
    }
   ],
   "source": [
    "df4.head()"
   ]
  },
  {
   "cell_type": "markdown",
   "id": "562a30bc-1c9a-4249-a6b3-bb42e6abc1f7",
   "metadata": {},
   "source": [
    "#### Remove rows with '10+' baths"
   ]
  },
  {
   "cell_type": "code",
   "execution_count": 23,
   "id": "7b59c6da-94b5-46d0-9375-0b1c39cef659",
   "metadata": {},
   "outputs": [
    {
     "data": {
      "text/plain": [
       "array(['1', '3', '2', '5', '4', '10+', '7', '6', '8', '10', '9'],\n",
       "      dtype=object)"
      ]
     },
     "execution_count": 23,
     "metadata": {},
     "output_type": "execute_result"
    }
   ],
   "source": [
    "df4.Baths.unique()"
   ]
  },
  {
   "cell_type": "code",
   "execution_count": 24,
   "id": "f16bd385-9eba-42be-b411-c6f26c2bd746",
   "metadata": {},
   "outputs": [
    {
     "data": {
      "text/plain": [
       "Baths\n",
       "3      4134\n",
       "4      4049\n",
       "2      3687\n",
       "1      2174\n",
       "5       766\n",
       "6       191\n",
       "7       159\n",
       "8       130\n",
       "9        28\n",
       "10+       5\n",
       "10        4\n",
       "Name: count, dtype: int64"
      ]
     },
     "execution_count": 24,
     "metadata": {},
     "output_type": "execute_result"
    }
   ],
   "source": [
    "baths_count = df4['Baths'].value_counts()\n",
    "baths_count"
   ]
  },
  {
   "cell_type": "code",
   "execution_count": 25,
   "id": "f555aa2f-2376-4ee7-9db6-ceb21eaa19af",
   "metadata": {},
   "outputs": [
    {
     "name": "stdout",
     "output_type": "stream",
     "text": [
      "['1' '3' '2' '5' '4' '7' '6' '8' '10' '9']\n"
     ]
    }
   ],
   "source": [
    "# Remove rows with '10+' baths\n",
    "df4 = df4[df4['Baths'] != '10+']\n",
    "\n",
    "# Verify the removal by checking the unique values in the 'Baths' column again\n",
    "print(df4['Baths'].unique())"
   ]
  },
  {
   "cell_type": "markdown",
   "id": "4c42eb35-ea45-4f8c-844b-a1b630d75918",
   "metadata": {},
   "source": [
    "#### Remove rows with '10+' Beds"
   ]
  },
  {
   "cell_type": "code",
   "execution_count": 26,
   "id": "3ac4bedb-13d1-4c28-8c8a-0d8c90c5a0b9",
   "metadata": {},
   "outputs": [
    {
     "data": {
      "text/plain": [
       "array(['3', '5', '2', '4', '9', '10+', '8', '6', '7', '1', '10'],\n",
       "      dtype=object)"
      ]
     },
     "execution_count": 26,
     "metadata": {},
     "output_type": "execute_result"
    }
   ],
   "source": [
    "df4.Beds.unique()"
   ]
  },
  {
   "cell_type": "code",
   "execution_count": 27,
   "id": "ef94a464-5713-476b-9055-c0bf6b182275",
   "metadata": {},
   "outputs": [
    {
     "data": {
      "text/plain": [
       "Beds\n",
       "4      6255\n",
       "3      4222\n",
       "5      2529\n",
       "2       928\n",
       "6       748\n",
       "7       204\n",
       "8       168\n",
       "1       110\n",
       "9        67\n",
       "10+      53\n",
       "10       38\n",
       "Name: count, dtype: int64"
      ]
     },
     "execution_count": 27,
     "metadata": {},
     "output_type": "execute_result"
    }
   ],
   "source": [
    "beds_count = df4['Beds'].value_counts()\n",
    "beds_count"
   ]
  },
  {
   "cell_type": "code",
   "execution_count": 28,
   "id": "37214b02-8211-4b66-ab4e-13244b6f8e1b",
   "metadata": {},
   "outputs": [
    {
     "name": "stdout",
     "output_type": "stream",
     "text": [
      "['3' '5' '2' '4' '9' '8' '6' '7' '1' '10']\n"
     ]
    }
   ],
   "source": [
    "# Remove rows with '10+' Beds\n",
    "df4 = df4[df4['Beds'] != '10+']\n",
    "\n",
    "# Verify the removal by checking the unique values in the 'Beds' column again\n",
    "print(df4['Beds'].unique())"
   ]
  },
  {
   "cell_type": "code",
   "execution_count": 29,
   "id": "c03ec764-1aef-4a2b-adfa-a361d389edc5",
   "metadata": {},
   "outputs": [
    {
     "data": {
      "text/html": [
       "<div>\n",
       "<style scoped>\n",
       "    .dataframe tbody tr th:only-of-type {\n",
       "        vertical-align: middle;\n",
       "    }\n",
       "\n",
       "    .dataframe tbody tr th {\n",
       "        vertical-align: top;\n",
       "    }\n",
       "\n",
       "    .dataframe thead th {\n",
       "        text-align: right;\n",
       "    }\n",
       "</style>\n",
       "<table border=\"1\" class=\"dataframe\">\n",
       "  <thead>\n",
       "    <tr style=\"text-align: right;\">\n",
       "      <th></th>\n",
       "      <th>Price</th>\n",
       "      <th>Baths</th>\n",
       "      <th>Land size</th>\n",
       "      <th>Beds</th>\n",
       "      <th>House size</th>\n",
       "      <th>Location</th>\n",
       "      <th>LSP</th>\n",
       "      <th>HSsqft</th>\n",
       "    </tr>\n",
       "  </thead>\n",
       "  <tbody>\n",
       "    <tr>\n",
       "      <th>0</th>\n",
       "      <td>5400000.0</td>\n",
       "      <td>1</td>\n",
       "      <td>50.0 perches</td>\n",
       "      <td>3</td>\n",
       "      <td>1,600.0 sqft</td>\n",
       "      <td>Matara City,  Matara</td>\n",
       "      <td>50.0</td>\n",
       "      <td>1600.0</td>\n",
       "    </tr>\n",
       "    <tr>\n",
       "      <th>1</th>\n",
       "      <td>16800000.0</td>\n",
       "      <td>3</td>\n",
       "      <td>8.0 perches</td>\n",
       "      <td>3</td>\n",
       "      <td>1,480.0 sqft</td>\n",
       "      <td>Athurugiriya,  Colombo</td>\n",
       "      <td>8.0</td>\n",
       "      <td>1480.0</td>\n",
       "    </tr>\n",
       "    <tr>\n",
       "      <th>2</th>\n",
       "      <td>20000000.0</td>\n",
       "      <td>2</td>\n",
       "      <td>20.0 perches</td>\n",
       "      <td>3</td>\n",
       "      <td>2,800.0 sqft</td>\n",
       "      <td>Kelaniya,  Gampaha</td>\n",
       "      <td>20.0</td>\n",
       "      <td>2800.0</td>\n",
       "    </tr>\n",
       "    <tr>\n",
       "      <th>3</th>\n",
       "      <td>187000000.0</td>\n",
       "      <td>5</td>\n",
       "      <td>22.0 perches</td>\n",
       "      <td>5</td>\n",
       "      <td>4,000.0 sqft</td>\n",
       "      <td>Colombo 6,  Colombo</td>\n",
       "      <td>22.0</td>\n",
       "      <td>4000.0</td>\n",
       "    </tr>\n",
       "    <tr>\n",
       "      <th>4</th>\n",
       "      <td>1300000.0</td>\n",
       "      <td>1</td>\n",
       "      <td>6.3 perches</td>\n",
       "      <td>2</td>\n",
       "      <td>900.0 sqft</td>\n",
       "      <td>Dehiwala,  Colombo</td>\n",
       "      <td>6.3</td>\n",
       "      <td>900.0</td>\n",
       "    </tr>\n",
       "  </tbody>\n",
       "</table>\n",
       "</div>"
      ],
      "text/plain": [
       "         Price Baths     Land size Beds    House size  \\\n",
       "0    5400000.0     1  50.0 perches    3  1,600.0 sqft   \n",
       "1   16800000.0     3   8.0 perches    3  1,480.0 sqft   \n",
       "2   20000000.0     2  20.0 perches    3  2,800.0 sqft   \n",
       "3  187000000.0     5  22.0 perches    5  4,000.0 sqft   \n",
       "4    1300000.0     1   6.3 perches    2    900.0 sqft   \n",
       "\n",
       "                  Location   LSP  HSsqft  \n",
       "0     Matara City,  Matara  50.0  1600.0  \n",
       "1   Athurugiriya,  Colombo   8.0  1480.0  \n",
       "2       Kelaniya,  Gampaha  20.0  2800.0  \n",
       "3      Colombo 6,  Colombo  22.0  4000.0  \n",
       "4       Dehiwala,  Colombo   6.3   900.0  "
      ]
     },
     "execution_count": 29,
     "metadata": {},
     "output_type": "execute_result"
    }
   ],
   "source": [
    "df4.head()"
   ]
  },
  {
   "cell_type": "markdown",
   "id": "558cb05e-640a-4331-8a31-2d81661d74c7",
   "metadata": {},
   "source": [
    "##### split the 'Location' column into two separate columns 'City' and 'District'."
   ]
  },
  {
   "cell_type": "code",
   "execution_count": 30,
   "id": "fbc5f819-7e65-49a8-8789-25c57de99c8d",
   "metadata": {},
   "outputs": [
    {
     "data": {
      "text/plain": [
       "Location\n",
       " Piliyandala,  Colombo      2806\n",
       " Malabe,  Colombo           1572\n",
       " Negombo,  Gampaha          1363\n",
       " Talawatugoda,  Colombo     1296\n",
       " Kottawa,  Colombo           750\n",
       "                            ... \n",
       " Ibbagamuwa,  Kurunegala       1\n",
       " Kitulgala,  Kegalle           1\n",
       " Giriulla,  Kurunegala         1\n",
       " Haputale,  Badulla            1\n",
       " Wellawaya,  Monaragala        1\n",
       "Name: count, Length: 172, dtype: int64"
      ]
     },
     "execution_count": 30,
     "metadata": {},
     "output_type": "execute_result"
    }
   ],
   "source": [
    "location_count = df4['Location'].value_counts()\n",
    "location_count"
   ]
  },
  {
   "cell_type": "code",
   "execution_count": 31,
   "id": "c1cf79ab-125c-4cd5-8b83-f0d8d9587925",
   "metadata": {},
   "outputs": [
    {
     "data": {
      "text/html": [
       "<div>\n",
       "<style scoped>\n",
       "    .dataframe tbody tr th:only-of-type {\n",
       "        vertical-align: middle;\n",
       "    }\n",
       "\n",
       "    .dataframe tbody tr th {\n",
       "        vertical-align: top;\n",
       "    }\n",
       "\n",
       "    .dataframe thead th {\n",
       "        text-align: right;\n",
       "    }\n",
       "</style>\n",
       "<table border=\"1\" class=\"dataframe\">\n",
       "  <thead>\n",
       "    <tr style=\"text-align: right;\">\n",
       "      <th></th>\n",
       "      <th>Price</th>\n",
       "      <th>Baths</th>\n",
       "      <th>Land size</th>\n",
       "      <th>Beds</th>\n",
       "      <th>House size</th>\n",
       "      <th>Location</th>\n",
       "      <th>LSP</th>\n",
       "      <th>HSsqft</th>\n",
       "      <th>City</th>\n",
       "      <th>District</th>\n",
       "    </tr>\n",
       "  </thead>\n",
       "  <tbody>\n",
       "    <tr>\n",
       "      <th>0</th>\n",
       "      <td>5400000.0</td>\n",
       "      <td>1</td>\n",
       "      <td>50.0 perches</td>\n",
       "      <td>3</td>\n",
       "      <td>1,600.0 sqft</td>\n",
       "      <td>Matara City,  Matara</td>\n",
       "      <td>50.0</td>\n",
       "      <td>1600.0</td>\n",
       "      <td>Matara City</td>\n",
       "      <td>Matara</td>\n",
       "    </tr>\n",
       "    <tr>\n",
       "      <th>1</th>\n",
       "      <td>16800000.0</td>\n",
       "      <td>3</td>\n",
       "      <td>8.0 perches</td>\n",
       "      <td>3</td>\n",
       "      <td>1,480.0 sqft</td>\n",
       "      <td>Athurugiriya,  Colombo</td>\n",
       "      <td>8.0</td>\n",
       "      <td>1480.0</td>\n",
       "      <td>Athurugiriya</td>\n",
       "      <td>Colombo</td>\n",
       "    </tr>\n",
       "    <tr>\n",
       "      <th>2</th>\n",
       "      <td>20000000.0</td>\n",
       "      <td>2</td>\n",
       "      <td>20.0 perches</td>\n",
       "      <td>3</td>\n",
       "      <td>2,800.0 sqft</td>\n",
       "      <td>Kelaniya,  Gampaha</td>\n",
       "      <td>20.0</td>\n",
       "      <td>2800.0</td>\n",
       "      <td>Kelaniya</td>\n",
       "      <td>Gampaha</td>\n",
       "    </tr>\n",
       "    <tr>\n",
       "      <th>3</th>\n",
       "      <td>187000000.0</td>\n",
       "      <td>5</td>\n",
       "      <td>22.0 perches</td>\n",
       "      <td>5</td>\n",
       "      <td>4,000.0 sqft</td>\n",
       "      <td>Colombo 6,  Colombo</td>\n",
       "      <td>22.0</td>\n",
       "      <td>4000.0</td>\n",
       "      <td>Colombo 6</td>\n",
       "      <td>Colombo</td>\n",
       "    </tr>\n",
       "    <tr>\n",
       "      <th>4</th>\n",
       "      <td>1300000.0</td>\n",
       "      <td>1</td>\n",
       "      <td>6.3 perches</td>\n",
       "      <td>2</td>\n",
       "      <td>900.0 sqft</td>\n",
       "      <td>Dehiwala,  Colombo</td>\n",
       "      <td>6.3</td>\n",
       "      <td>900.0</td>\n",
       "      <td>Dehiwala</td>\n",
       "      <td>Colombo</td>\n",
       "    </tr>\n",
       "  </tbody>\n",
       "</table>\n",
       "</div>"
      ],
      "text/plain": [
       "         Price Baths     Land size Beds    House size  \\\n",
       "0    5400000.0     1  50.0 perches    3  1,600.0 sqft   \n",
       "1   16800000.0     3   8.0 perches    3  1,480.0 sqft   \n",
       "2   20000000.0     2  20.0 perches    3  2,800.0 sqft   \n",
       "3  187000000.0     5  22.0 perches    5  4,000.0 sqft   \n",
       "4    1300000.0     1   6.3 perches    2    900.0 sqft   \n",
       "\n",
       "                  Location   LSP  HSsqft          City District  \n",
       "0     Matara City,  Matara  50.0  1600.0   Matara City   Matara  \n",
       "1   Athurugiriya,  Colombo   8.0  1480.0  Athurugiriya  Colombo  \n",
       "2       Kelaniya,  Gampaha  20.0  2800.0      Kelaniya  Gampaha  \n",
       "3      Colombo 6,  Colombo  22.0  4000.0     Colombo 6  Colombo  \n",
       "4       Dehiwala,  Colombo   6.3   900.0      Dehiwala  Colombo  "
      ]
     },
     "execution_count": 31,
     "metadata": {},
     "output_type": "execute_result"
    }
   ],
   "source": [
    "df5 = df4.copy()\n",
    "# Split the 'Location' column into two parts based on the comma\n",
    "df5[['City', 'District']] = df5['Location'].str.split(',', expand=True)\n",
    "\n",
    "# Strip any leading or trailing spaces from the new columns\n",
    "df5['City'] = df5['City'].str.strip()\n",
    "df5['District'] = df5['District'].str.strip()\n",
    "\n",
    "df5.head()"
   ]
  },
  {
   "cell_type": "code",
   "execution_count": 32,
   "id": "f9730fbf-bd67-4a51-a29d-4e7457a9c1f8",
   "metadata": {},
   "outputs": [
    {
     "name": "stdout",
     "output_type": "stream",
     "text": [
      "<class 'pandas.core.frame.DataFrame'>\n",
      "Index: 15269 entries, 0 to 15326\n",
      "Data columns (total 10 columns):\n",
      " #   Column      Non-Null Count  Dtype  \n",
      "---  ------      --------------  -----  \n",
      " 0   Price       15269 non-null  float64\n",
      " 1   Baths       15269 non-null  object \n",
      " 2   Land size   15269 non-null  object \n",
      " 3   Beds        15269 non-null  object \n",
      " 4   House size  15269 non-null  object \n",
      " 5   Location    15269 non-null  object \n",
      " 6   LSP         15269 non-null  float64\n",
      " 7   HSsqft      15269 non-null  float64\n",
      " 8   City        15269 non-null  object \n",
      " 9   District    15269 non-null  object \n",
      "dtypes: float64(3), object(7)\n",
      "memory usage: 1.3+ MB\n"
     ]
    }
   ],
   "source": [
    "df5.info()"
   ]
  },
  {
   "cell_type": "markdown",
   "id": "612100d8-3754-4c67-a247-a1203001c147",
   "metadata": {},
   "source": [
    "#### Add new feature called price per square feet\n",
    "\n"
   ]
  },
  {
   "cell_type": "code",
   "execution_count": 33,
   "id": "eb20fd52-d0a5-40c6-ae11-5a43302cb3fd",
   "metadata": {},
   "outputs": [
    {
     "data": {
      "text/html": [
       "<div>\n",
       "<style scoped>\n",
       "    .dataframe tbody tr th:only-of-type {\n",
       "        vertical-align: middle;\n",
       "    }\n",
       "\n",
       "    .dataframe tbody tr th {\n",
       "        vertical-align: top;\n",
       "    }\n",
       "\n",
       "    .dataframe thead th {\n",
       "        text-align: right;\n",
       "    }\n",
       "</style>\n",
       "<table border=\"1\" class=\"dataframe\">\n",
       "  <thead>\n",
       "    <tr style=\"text-align: right;\">\n",
       "      <th></th>\n",
       "      <th>Price</th>\n",
       "      <th>Baths</th>\n",
       "      <th>Land size</th>\n",
       "      <th>Beds</th>\n",
       "      <th>House size</th>\n",
       "      <th>Location</th>\n",
       "      <th>LSP</th>\n",
       "      <th>HSsqft</th>\n",
       "      <th>City</th>\n",
       "      <th>District</th>\n",
       "      <th>house_price_per_sqft</th>\n",
       "    </tr>\n",
       "  </thead>\n",
       "  <tbody>\n",
       "    <tr>\n",
       "      <th>0</th>\n",
       "      <td>5400000.0</td>\n",
       "      <td>1</td>\n",
       "      <td>50.0 perches</td>\n",
       "      <td>3</td>\n",
       "      <td>1,600.0 sqft</td>\n",
       "      <td>Matara City,  Matara</td>\n",
       "      <td>50.0</td>\n",
       "      <td>1600.0</td>\n",
       "      <td>Matara City</td>\n",
       "      <td>Matara</td>\n",
       "      <td>3375.00</td>\n",
       "    </tr>\n",
       "    <tr>\n",
       "      <th>1</th>\n",
       "      <td>16800000.0</td>\n",
       "      <td>3</td>\n",
       "      <td>8.0 perches</td>\n",
       "      <td>3</td>\n",
       "      <td>1,480.0 sqft</td>\n",
       "      <td>Athurugiriya,  Colombo</td>\n",
       "      <td>8.0</td>\n",
       "      <td>1480.0</td>\n",
       "      <td>Athurugiriya</td>\n",
       "      <td>Colombo</td>\n",
       "      <td>11351.35</td>\n",
       "    </tr>\n",
       "    <tr>\n",
       "      <th>2</th>\n",
       "      <td>20000000.0</td>\n",
       "      <td>2</td>\n",
       "      <td>20.0 perches</td>\n",
       "      <td>3</td>\n",
       "      <td>2,800.0 sqft</td>\n",
       "      <td>Kelaniya,  Gampaha</td>\n",
       "      <td>20.0</td>\n",
       "      <td>2800.0</td>\n",
       "      <td>Kelaniya</td>\n",
       "      <td>Gampaha</td>\n",
       "      <td>7142.86</td>\n",
       "    </tr>\n",
       "    <tr>\n",
       "      <th>3</th>\n",
       "      <td>187000000.0</td>\n",
       "      <td>5</td>\n",
       "      <td>22.0 perches</td>\n",
       "      <td>5</td>\n",
       "      <td>4,000.0 sqft</td>\n",
       "      <td>Colombo 6,  Colombo</td>\n",
       "      <td>22.0</td>\n",
       "      <td>4000.0</td>\n",
       "      <td>Colombo 6</td>\n",
       "      <td>Colombo</td>\n",
       "      <td>46750.00</td>\n",
       "    </tr>\n",
       "    <tr>\n",
       "      <th>4</th>\n",
       "      <td>1300000.0</td>\n",
       "      <td>1</td>\n",
       "      <td>6.3 perches</td>\n",
       "      <td>2</td>\n",
       "      <td>900.0 sqft</td>\n",
       "      <td>Dehiwala,  Colombo</td>\n",
       "      <td>6.3</td>\n",
       "      <td>900.0</td>\n",
       "      <td>Dehiwala</td>\n",
       "      <td>Colombo</td>\n",
       "      <td>1444.44</td>\n",
       "    </tr>\n",
       "  </tbody>\n",
       "</table>\n",
       "</div>"
      ],
      "text/plain": [
       "         Price Baths     Land size Beds    House size  \\\n",
       "0    5400000.0     1  50.0 perches    3  1,600.0 sqft   \n",
       "1   16800000.0     3   8.0 perches    3  1,480.0 sqft   \n",
       "2   20000000.0     2  20.0 perches    3  2,800.0 sqft   \n",
       "3  187000000.0     5  22.0 perches    5  4,000.0 sqft   \n",
       "4    1300000.0     1   6.3 perches    2    900.0 sqft   \n",
       "\n",
       "                  Location   LSP  HSsqft          City District  \\\n",
       "0     Matara City,  Matara  50.0  1600.0   Matara City   Matara   \n",
       "1   Athurugiriya,  Colombo   8.0  1480.0  Athurugiriya  Colombo   \n",
       "2       Kelaniya,  Gampaha  20.0  2800.0      Kelaniya  Gampaha   \n",
       "3      Colombo 6,  Colombo  22.0  4000.0     Colombo 6  Colombo   \n",
       "4       Dehiwala,  Colombo   6.3   900.0      Dehiwala  Colombo   \n",
       "\n",
       "   house_price_per_sqft  \n",
       "0               3375.00  \n",
       "1              11351.35  \n",
       "2               7142.86  \n",
       "3              46750.00  \n",
       "4               1444.44  "
      ]
     },
     "execution_count": 33,
     "metadata": {},
     "output_type": "execute_result"
    }
   ],
   "source": [
    "df6 = df5.copy()\n",
    "df6['house_price_per_sqft'] = round(df6['Price']/df5['HSsqft'],2)\n",
    "df6.head()"
   ]
  },
  {
   "cell_type": "code",
   "execution_count": 34,
   "id": "b8f42349-e2f9-438a-a6c4-27a01980a844",
   "metadata": {},
   "outputs": [
    {
     "data": {
      "text/html": [
       "<div>\n",
       "<style scoped>\n",
       "    .dataframe tbody tr th:only-of-type {\n",
       "        vertical-align: middle;\n",
       "    }\n",
       "\n",
       "    .dataframe tbody tr th {\n",
       "        vertical-align: top;\n",
       "    }\n",
       "\n",
       "    .dataframe thead th {\n",
       "        text-align: right;\n",
       "    }\n",
       "</style>\n",
       "<table border=\"1\" class=\"dataframe\">\n",
       "  <thead>\n",
       "    <tr style=\"text-align: right;\">\n",
       "      <th></th>\n",
       "      <th>Price</th>\n",
       "      <th>Baths</th>\n",
       "      <th>Land size</th>\n",
       "      <th>Beds</th>\n",
       "      <th>House size</th>\n",
       "      <th>Location</th>\n",
       "      <th>LSP</th>\n",
       "      <th>HSsqft</th>\n",
       "      <th>City</th>\n",
       "      <th>District</th>\n",
       "      <th>house_price_per_sqft</th>\n",
       "      <th>land_price_per_perches</th>\n",
       "    </tr>\n",
       "  </thead>\n",
       "  <tbody>\n",
       "    <tr>\n",
       "      <th>0</th>\n",
       "      <td>5400000.0</td>\n",
       "      <td>1</td>\n",
       "      <td>50.0 perches</td>\n",
       "      <td>3</td>\n",
       "      <td>1,600.0 sqft</td>\n",
       "      <td>Matara City,  Matara</td>\n",
       "      <td>50.0</td>\n",
       "      <td>1600.0</td>\n",
       "      <td>Matara City</td>\n",
       "      <td>Matara</td>\n",
       "      <td>3375.00</td>\n",
       "      <td>108000.00</td>\n",
       "    </tr>\n",
       "    <tr>\n",
       "      <th>1</th>\n",
       "      <td>16800000.0</td>\n",
       "      <td>3</td>\n",
       "      <td>8.0 perches</td>\n",
       "      <td>3</td>\n",
       "      <td>1,480.0 sqft</td>\n",
       "      <td>Athurugiriya,  Colombo</td>\n",
       "      <td>8.0</td>\n",
       "      <td>1480.0</td>\n",
       "      <td>Athurugiriya</td>\n",
       "      <td>Colombo</td>\n",
       "      <td>11351.35</td>\n",
       "      <td>2100000.00</td>\n",
       "    </tr>\n",
       "    <tr>\n",
       "      <th>2</th>\n",
       "      <td>20000000.0</td>\n",
       "      <td>2</td>\n",
       "      <td>20.0 perches</td>\n",
       "      <td>3</td>\n",
       "      <td>2,800.0 sqft</td>\n",
       "      <td>Kelaniya,  Gampaha</td>\n",
       "      <td>20.0</td>\n",
       "      <td>2800.0</td>\n",
       "      <td>Kelaniya</td>\n",
       "      <td>Gampaha</td>\n",
       "      <td>7142.86</td>\n",
       "      <td>1000000.00</td>\n",
       "    </tr>\n",
       "    <tr>\n",
       "      <th>3</th>\n",
       "      <td>187000000.0</td>\n",
       "      <td>5</td>\n",
       "      <td>22.0 perches</td>\n",
       "      <td>5</td>\n",
       "      <td>4,000.0 sqft</td>\n",
       "      <td>Colombo 6,  Colombo</td>\n",
       "      <td>22.0</td>\n",
       "      <td>4000.0</td>\n",
       "      <td>Colombo 6</td>\n",
       "      <td>Colombo</td>\n",
       "      <td>46750.00</td>\n",
       "      <td>8500000.00</td>\n",
       "    </tr>\n",
       "    <tr>\n",
       "      <th>4</th>\n",
       "      <td>1300000.0</td>\n",
       "      <td>1</td>\n",
       "      <td>6.3 perches</td>\n",
       "      <td>2</td>\n",
       "      <td>900.0 sqft</td>\n",
       "      <td>Dehiwala,  Colombo</td>\n",
       "      <td>6.3</td>\n",
       "      <td>900.0</td>\n",
       "      <td>Dehiwala</td>\n",
       "      <td>Colombo</td>\n",
       "      <td>1444.44</td>\n",
       "      <td>206349.21</td>\n",
       "    </tr>\n",
       "  </tbody>\n",
       "</table>\n",
       "</div>"
      ],
      "text/plain": [
       "         Price Baths     Land size Beds    House size  \\\n",
       "0    5400000.0     1  50.0 perches    3  1,600.0 sqft   \n",
       "1   16800000.0     3   8.0 perches    3  1,480.0 sqft   \n",
       "2   20000000.0     2  20.0 perches    3  2,800.0 sqft   \n",
       "3  187000000.0     5  22.0 perches    5  4,000.0 sqft   \n",
       "4    1300000.0     1   6.3 perches    2    900.0 sqft   \n",
       "\n",
       "                  Location   LSP  HSsqft          City District  \\\n",
       "0     Matara City,  Matara  50.0  1600.0   Matara City   Matara   \n",
       "1   Athurugiriya,  Colombo   8.0  1480.0  Athurugiriya  Colombo   \n",
       "2       Kelaniya,  Gampaha  20.0  2800.0      Kelaniya  Gampaha   \n",
       "3      Colombo 6,  Colombo  22.0  4000.0     Colombo 6  Colombo   \n",
       "4       Dehiwala,  Colombo   6.3   900.0      Dehiwala  Colombo   \n",
       "\n",
       "   house_price_per_sqft  land_price_per_perches  \n",
       "0               3375.00               108000.00  \n",
       "1              11351.35              2100000.00  \n",
       "2               7142.86              1000000.00  \n",
       "3              46750.00              8500000.00  \n",
       "4               1444.44               206349.21  "
      ]
     },
     "execution_count": 34,
     "metadata": {},
     "output_type": "execute_result"
    }
   ],
   "source": [
    "df7 = df6.copy()\n",
    "df7['land_price_per_perches'] = round(df7['Price']/df5['LSP'],2)\n",
    "df7.head()"
   ]
  },
  {
   "cell_type": "markdown",
   "id": "28f213b2-e979-45e9-83cf-48bef911bb0d",
   "metadata": {},
   "source": [
    "## Dimensionality Reduction\n"
   ]
  },
  {
   "cell_type": "markdown",
   "id": "d184f630-2653-4f45-8bee-78778c9f138e",
   "metadata": {},
   "source": [
    "#### Any city less than 2 data points should be tagged as \"other\" city. "
   ]
  },
  {
   "cell_type": "code",
   "execution_count": 35,
   "id": "3c5374be-0e60-4d40-8c32-35d12557dc1f",
   "metadata": {},
   "outputs": [
    {
     "data": {
      "text/plain": [
       "(15269, 12)"
      ]
     },
     "execution_count": 35,
     "metadata": {},
     "output_type": "execute_result"
    }
   ],
   "source": [
    "df7.shape"
   ]
  },
  {
   "cell_type": "code",
   "execution_count": 36,
   "id": "dbb95584-5957-4c05-a782-a5e05f6c9202",
   "metadata": {},
   "outputs": [
    {
     "data": {
      "text/plain": [
       "172"
      ]
     },
     "execution_count": 36,
     "metadata": {},
     "output_type": "execute_result"
    }
   ],
   "source": [
    "len(df7['City'].unique())"
   ]
  },
  {
   "cell_type": "code",
   "execution_count": 37,
   "id": "a5cd710a-279a-45f5-b0a4-4594f097aa8a",
   "metadata": {},
   "outputs": [
    {
     "data": {
      "text/plain": [
       "City\n",
       "Piliyandala     2806\n",
       "Malabe          1572\n",
       "Negombo         1363\n",
       "Talawatugoda    1296\n",
       "Kottawa          750\n",
       "                ... \n",
       "Ibbagamuwa         1\n",
       "Kitulgala          1\n",
       "Giriulla           1\n",
       "Haputale           1\n",
       "Wellawaya          1\n",
       "Name: count, Length: 172, dtype: int64"
      ]
     },
     "execution_count": 37,
     "metadata": {},
     "output_type": "execute_result"
    }
   ],
   "source": [
    "df7.City = df7.City.apply(lambda x: x.strip())\n",
    "df7['City'].value_counts(ascending=False)"
   ]
  },
  {
   "cell_type": "code",
   "execution_count": 38,
   "id": "6a0dc15e-40c6-43f4-abde-ef6a8727eba0",
   "metadata": {},
   "outputs": [
    {
     "data": {
      "text/plain": [
       "City\n",
       "Piliyandala       2806\n",
       "Malabe            1572\n",
       "Negombo           1363\n",
       "Talawatugoda      1296\n",
       "Kottawa            750\n",
       "                  ... \n",
       "Galigamuwa           1\n",
       "Galgamuwa            1\n",
       "Mullativu City       1\n",
       "Eppawala             1\n",
       "Giriulla             1\n",
       "Name: City, Length: 172, dtype: int64"
      ]
     },
     "execution_count": 38,
     "metadata": {},
     "output_type": "execute_result"
    }
   ],
   "source": [
    "city_status=df7.groupby('City')['City'].agg('count').sort_values(ascending=False)\n",
    "city_status"
   ]
  },
  {
   "cell_type": "code",
   "execution_count": 39,
   "id": "87b3d371-939d-48f1-b07c-2d01c0a35589",
   "metadata": {},
   "outputs": [],
   "source": [
    "city_stsless_than_2 = city_status[city_status<2]"
   ]
  },
  {
   "cell_type": "code",
   "execution_count": 40,
   "id": "581451c8-02e1-4547-9ec1-7d9803808208",
   "metadata": {},
   "outputs": [
    {
     "data": {
      "text/plain": [
       "City\n",
       "Kitulgala         1\n",
       "Hatton            1\n",
       "Wellawaya         1\n",
       "Akkarepattu       1\n",
       "Ibbagamuwa        1\n",
       "Pannala           1\n",
       "Haputale          1\n",
       "Vavuniya City     1\n",
       "Medirigiriya      1\n",
       "Mihintale         1\n",
       "Galnewa           1\n",
       "Galigamuwa        1\n",
       "Galgamuwa         1\n",
       "Mullativu City    1\n",
       "Eppawala          1\n",
       "Giriulla          1\n",
       "Name: City, dtype: int64"
      ]
     },
     "execution_count": 40,
     "metadata": {},
     "output_type": "execute_result"
    }
   ],
   "source": [
    "city_stsless_than_2"
   ]
  },
  {
   "cell_type": "code",
   "execution_count": 41,
   "id": "c275053e-fcb8-47e1-aa0c-3b833a3b2b20",
   "metadata": {},
   "outputs": [
    {
     "data": {
      "text/plain": [
       "16"
      ]
     },
     "execution_count": 41,
     "metadata": {},
     "output_type": "execute_result"
    }
   ],
   "source": [
    "len(city_stsless_than_2)"
   ]
  },
  {
   "cell_type": "code",
   "execution_count": 42,
   "id": "fb7c2cfa-4083-4b98-a810-c082187f7eb1",
   "metadata": {},
   "outputs": [
    {
     "data": {
      "text/plain": [
       "157"
      ]
     },
     "execution_count": 42,
     "metadata": {},
     "output_type": "execute_result"
    }
   ],
   "source": [
    "df7.City = df7.City.apply(lambda x: 'other' if x in city_stsless_than_2 else x)\n",
    "len(df7.City.unique())"
   ]
  },
  {
   "cell_type": "code",
   "execution_count": 43,
   "id": "e2469474-d2c3-481a-b18c-6590b6b62e3f",
   "metadata": {},
   "outputs": [
    {
     "data": {
      "text/html": [
       "<div>\n",
       "<style scoped>\n",
       "    .dataframe tbody tr th:only-of-type {\n",
       "        vertical-align: middle;\n",
       "    }\n",
       "\n",
       "    .dataframe tbody tr th {\n",
       "        vertical-align: top;\n",
       "    }\n",
       "\n",
       "    .dataframe thead th {\n",
       "        text-align: right;\n",
       "    }\n",
       "</style>\n",
       "<table border=\"1\" class=\"dataframe\">\n",
       "  <thead>\n",
       "    <tr style=\"text-align: right;\">\n",
       "      <th></th>\n",
       "      <th>Price</th>\n",
       "      <th>Baths</th>\n",
       "      <th>Land size</th>\n",
       "      <th>Beds</th>\n",
       "      <th>House size</th>\n",
       "      <th>Location</th>\n",
       "      <th>LSP</th>\n",
       "      <th>HSsqft</th>\n",
       "      <th>City</th>\n",
       "      <th>District</th>\n",
       "      <th>house_price_per_sqft</th>\n",
       "      <th>land_price_per_perches</th>\n",
       "    </tr>\n",
       "  </thead>\n",
       "  <tbody>\n",
       "    <tr>\n",
       "      <th>0</th>\n",
       "      <td>5400000.0</td>\n",
       "      <td>1</td>\n",
       "      <td>50.0 perches</td>\n",
       "      <td>3</td>\n",
       "      <td>1,600.0 sqft</td>\n",
       "      <td>Matara City,  Matara</td>\n",
       "      <td>50.0</td>\n",
       "      <td>1600.0</td>\n",
       "      <td>Matara City</td>\n",
       "      <td>Matara</td>\n",
       "      <td>3375.00</td>\n",
       "      <td>108000.00</td>\n",
       "    </tr>\n",
       "    <tr>\n",
       "      <th>1</th>\n",
       "      <td>16800000.0</td>\n",
       "      <td>3</td>\n",
       "      <td>8.0 perches</td>\n",
       "      <td>3</td>\n",
       "      <td>1,480.0 sqft</td>\n",
       "      <td>Athurugiriya,  Colombo</td>\n",
       "      <td>8.0</td>\n",
       "      <td>1480.0</td>\n",
       "      <td>Athurugiriya</td>\n",
       "      <td>Colombo</td>\n",
       "      <td>11351.35</td>\n",
       "      <td>2100000.00</td>\n",
       "    </tr>\n",
       "    <tr>\n",
       "      <th>2</th>\n",
       "      <td>20000000.0</td>\n",
       "      <td>2</td>\n",
       "      <td>20.0 perches</td>\n",
       "      <td>3</td>\n",
       "      <td>2,800.0 sqft</td>\n",
       "      <td>Kelaniya,  Gampaha</td>\n",
       "      <td>20.0</td>\n",
       "      <td>2800.0</td>\n",
       "      <td>Kelaniya</td>\n",
       "      <td>Gampaha</td>\n",
       "      <td>7142.86</td>\n",
       "      <td>1000000.00</td>\n",
       "    </tr>\n",
       "    <tr>\n",
       "      <th>3</th>\n",
       "      <td>187000000.0</td>\n",
       "      <td>5</td>\n",
       "      <td>22.0 perches</td>\n",
       "      <td>5</td>\n",
       "      <td>4,000.0 sqft</td>\n",
       "      <td>Colombo 6,  Colombo</td>\n",
       "      <td>22.0</td>\n",
       "      <td>4000.0</td>\n",
       "      <td>Colombo 6</td>\n",
       "      <td>Colombo</td>\n",
       "      <td>46750.00</td>\n",
       "      <td>8500000.00</td>\n",
       "    </tr>\n",
       "    <tr>\n",
       "      <th>4</th>\n",
       "      <td>1300000.0</td>\n",
       "      <td>1</td>\n",
       "      <td>6.3 perches</td>\n",
       "      <td>2</td>\n",
       "      <td>900.0 sqft</td>\n",
       "      <td>Dehiwala,  Colombo</td>\n",
       "      <td>6.3</td>\n",
       "      <td>900.0</td>\n",
       "      <td>Dehiwala</td>\n",
       "      <td>Colombo</td>\n",
       "      <td>1444.44</td>\n",
       "      <td>206349.21</td>\n",
       "    </tr>\n",
       "  </tbody>\n",
       "</table>\n",
       "</div>"
      ],
      "text/plain": [
       "         Price Baths     Land size Beds    House size  \\\n",
       "0    5400000.0     1  50.0 perches    3  1,600.0 sqft   \n",
       "1   16800000.0     3   8.0 perches    3  1,480.0 sqft   \n",
       "2   20000000.0     2  20.0 perches    3  2,800.0 sqft   \n",
       "3  187000000.0     5  22.0 perches    5  4,000.0 sqft   \n",
       "4    1300000.0     1   6.3 perches    2    900.0 sqft   \n",
       "\n",
       "                  Location   LSP  HSsqft          City District  \\\n",
       "0     Matara City,  Matara  50.0  1600.0   Matara City   Matara   \n",
       "1   Athurugiriya,  Colombo   8.0  1480.0  Athurugiriya  Colombo   \n",
       "2       Kelaniya,  Gampaha  20.0  2800.0      Kelaniya  Gampaha   \n",
       "3      Colombo 6,  Colombo  22.0  4000.0     Colombo 6  Colombo   \n",
       "4       Dehiwala,  Colombo   6.3   900.0      Dehiwala  Colombo   \n",
       "\n",
       "   house_price_per_sqft  land_price_per_perches  \n",
       "0               3375.00               108000.00  \n",
       "1              11351.35              2100000.00  \n",
       "2               7142.86              1000000.00  \n",
       "3              46750.00              8500000.00  \n",
       "4               1444.44               206349.21  "
      ]
     },
     "execution_count": 43,
     "metadata": {},
     "output_type": "execute_result"
    }
   ],
   "source": [
    "df7.head()"
   ]
  },
  {
   "cell_type": "code",
   "execution_count": 44,
   "id": "3c5c8bc6-c132-4e48-93cf-5add10134a69",
   "metadata": {},
   "outputs": [],
   "source": [
    "df7['City'] = df7['City'].apply(lambda x: str(x.split(' ')[0]))"
   ]
  },
  {
   "cell_type": "code",
   "execution_count": 45,
   "id": "8c656eeb-0261-4f89-af16-a3ca12de4c63",
   "metadata": {},
   "outputs": [
    {
     "data": {
      "text/html": [
       "<div>\n",
       "<style scoped>\n",
       "    .dataframe tbody tr th:only-of-type {\n",
       "        vertical-align: middle;\n",
       "    }\n",
       "\n",
       "    .dataframe tbody tr th {\n",
       "        vertical-align: top;\n",
       "    }\n",
       "\n",
       "    .dataframe thead th {\n",
       "        text-align: right;\n",
       "    }\n",
       "</style>\n",
       "<table border=\"1\" class=\"dataframe\">\n",
       "  <thead>\n",
       "    <tr style=\"text-align: right;\">\n",
       "      <th></th>\n",
       "      <th>Price</th>\n",
       "      <th>Baths</th>\n",
       "      <th>Land size</th>\n",
       "      <th>Beds</th>\n",
       "      <th>House size</th>\n",
       "      <th>Location</th>\n",
       "      <th>LSP</th>\n",
       "      <th>HSsqft</th>\n",
       "      <th>City</th>\n",
       "      <th>District</th>\n",
       "      <th>house_price_per_sqft</th>\n",
       "      <th>land_price_per_perches</th>\n",
       "    </tr>\n",
       "  </thead>\n",
       "  <tbody>\n",
       "    <tr>\n",
       "      <th>0</th>\n",
       "      <td>5400000.0</td>\n",
       "      <td>1</td>\n",
       "      <td>50.0 perches</td>\n",
       "      <td>3</td>\n",
       "      <td>1,600.0 sqft</td>\n",
       "      <td>Matara City,  Matara</td>\n",
       "      <td>50.0</td>\n",
       "      <td>1600.0</td>\n",
       "      <td>Matara</td>\n",
       "      <td>Matara</td>\n",
       "      <td>3375.00</td>\n",
       "      <td>108000.00</td>\n",
       "    </tr>\n",
       "    <tr>\n",
       "      <th>1</th>\n",
       "      <td>16800000.0</td>\n",
       "      <td>3</td>\n",
       "      <td>8.0 perches</td>\n",
       "      <td>3</td>\n",
       "      <td>1,480.0 sqft</td>\n",
       "      <td>Athurugiriya,  Colombo</td>\n",
       "      <td>8.0</td>\n",
       "      <td>1480.0</td>\n",
       "      <td>Athurugiriya</td>\n",
       "      <td>Colombo</td>\n",
       "      <td>11351.35</td>\n",
       "      <td>2100000.00</td>\n",
       "    </tr>\n",
       "    <tr>\n",
       "      <th>2</th>\n",
       "      <td>20000000.0</td>\n",
       "      <td>2</td>\n",
       "      <td>20.0 perches</td>\n",
       "      <td>3</td>\n",
       "      <td>2,800.0 sqft</td>\n",
       "      <td>Kelaniya,  Gampaha</td>\n",
       "      <td>20.0</td>\n",
       "      <td>2800.0</td>\n",
       "      <td>Kelaniya</td>\n",
       "      <td>Gampaha</td>\n",
       "      <td>7142.86</td>\n",
       "      <td>1000000.00</td>\n",
       "    </tr>\n",
       "    <tr>\n",
       "      <th>3</th>\n",
       "      <td>187000000.0</td>\n",
       "      <td>5</td>\n",
       "      <td>22.0 perches</td>\n",
       "      <td>5</td>\n",
       "      <td>4,000.0 sqft</td>\n",
       "      <td>Colombo 6,  Colombo</td>\n",
       "      <td>22.0</td>\n",
       "      <td>4000.0</td>\n",
       "      <td>Colombo</td>\n",
       "      <td>Colombo</td>\n",
       "      <td>46750.00</td>\n",
       "      <td>8500000.00</td>\n",
       "    </tr>\n",
       "    <tr>\n",
       "      <th>4</th>\n",
       "      <td>1300000.0</td>\n",
       "      <td>1</td>\n",
       "      <td>6.3 perches</td>\n",
       "      <td>2</td>\n",
       "      <td>900.0 sqft</td>\n",
       "      <td>Dehiwala,  Colombo</td>\n",
       "      <td>6.3</td>\n",
       "      <td>900.0</td>\n",
       "      <td>Dehiwala</td>\n",
       "      <td>Colombo</td>\n",
       "      <td>1444.44</td>\n",
       "      <td>206349.21</td>\n",
       "    </tr>\n",
       "  </tbody>\n",
       "</table>\n",
       "</div>"
      ],
      "text/plain": [
       "         Price Baths     Land size Beds    House size  \\\n",
       "0    5400000.0     1  50.0 perches    3  1,600.0 sqft   \n",
       "1   16800000.0     3   8.0 perches    3  1,480.0 sqft   \n",
       "2   20000000.0     2  20.0 perches    3  2,800.0 sqft   \n",
       "3  187000000.0     5  22.0 perches    5  4,000.0 sqft   \n",
       "4    1300000.0     1   6.3 perches    2    900.0 sqft   \n",
       "\n",
       "                  Location   LSP  HSsqft          City District  \\\n",
       "0     Matara City,  Matara  50.0  1600.0        Matara   Matara   \n",
       "1   Athurugiriya,  Colombo   8.0  1480.0  Athurugiriya  Colombo   \n",
       "2       Kelaniya,  Gampaha  20.0  2800.0      Kelaniya  Gampaha   \n",
       "3      Colombo 6,  Colombo  22.0  4000.0       Colombo  Colombo   \n",
       "4       Dehiwala,  Colombo   6.3   900.0      Dehiwala  Colombo   \n",
       "\n",
       "   house_price_per_sqft  land_price_per_perches  \n",
       "0               3375.00               108000.00  \n",
       "1              11351.35              2100000.00  \n",
       "2               7142.86              1000000.00  \n",
       "3              46750.00              8500000.00  \n",
       "4               1444.44               206349.21  "
      ]
     },
     "execution_count": 45,
     "metadata": {},
     "output_type": "execute_result"
    }
   ],
   "source": [
    "df7.head()"
   ]
  },
  {
   "cell_type": "markdown",
   "id": "e2da4a49-cfdf-4d93-9e89-ba37e72e935f",
   "metadata": {},
   "source": [
    "## Outlier Removal Using Business Logic\n"
   ]
  },
  {
   "cell_type": "markdown",
   "id": "1807eab1-3212-4728-a21f-03400d3173c1",
   "metadata": {},
   "source": [
    "#### Normally square ft per bedroom is 250 \n",
    "#### I will remove such outliers by keeping minimum thresold per Beds to be 250 sqft"
   ]
  },
  {
   "cell_type": "code",
   "execution_count": 46,
   "id": "24c421f8-e550-4e83-98d9-eb1f15b53b26",
   "metadata": {},
   "outputs": [
    {
     "name": "stdout",
     "output_type": "stream",
     "text": [
      "<class 'pandas.core.frame.DataFrame'>\n",
      "Index: 15269 entries, 0 to 15326\n",
      "Data columns (total 12 columns):\n",
      " #   Column                  Non-Null Count  Dtype  \n",
      "---  ------                  --------------  -----  \n",
      " 0   Price                   15269 non-null  float64\n",
      " 1   Baths                   15269 non-null  object \n",
      " 2   Land size               15269 non-null  object \n",
      " 3   Beds                    15269 non-null  object \n",
      " 4   House size              15269 non-null  object \n",
      " 5   Location                15269 non-null  object \n",
      " 6   LSP                     15269 non-null  float64\n",
      " 7   HSsqft                  15269 non-null  float64\n",
      " 8   City                    15269 non-null  object \n",
      " 9   District                15269 non-null  object \n",
      " 10  house_price_per_sqft    15269 non-null  float64\n",
      " 11  land_price_per_perches  15269 non-null  float64\n",
      "dtypes: float64(5), object(7)\n",
      "memory usage: 1.5+ MB\n"
     ]
    }
   ],
   "source": [
    "df7.info()"
   ]
  },
  {
   "cell_type": "code",
   "execution_count": 47,
   "id": "0023fb05-5a66-4821-a91f-3289052f32cc",
   "metadata": {},
   "outputs": [
    {
     "name": "stdout",
     "output_type": "stream",
     "text": [
      "<class 'pandas.core.frame.DataFrame'>\n",
      "Index: 15269 entries, 0 to 15326\n",
      "Data columns (total 12 columns):\n",
      " #   Column                  Non-Null Count  Dtype  \n",
      "---  ------                  --------------  -----  \n",
      " 0   Price                   15269 non-null  float64\n",
      " 1   Baths                   15269 non-null  int32  \n",
      " 2   Land size               15269 non-null  object \n",
      " 3   Beds                    15269 non-null  int32  \n",
      " 4   House size              15269 non-null  object \n",
      " 5   Location                15269 non-null  object \n",
      " 6   LSP                     15269 non-null  float64\n",
      " 7   HSsqft                  15269 non-null  float64\n",
      " 8   City                    15269 non-null  object \n",
      " 9   District                15269 non-null  object \n",
      " 10  house_price_per_sqft    15269 non-null  float64\n",
      " 11  land_price_per_perches  15269 non-null  float64\n",
      "dtypes: float64(5), int32(2), object(5)\n",
      "memory usage: 1.4+ MB\n"
     ]
    }
   ],
   "source": [
    "df8 = df7.copy()\n",
    "# Clean and convert 'Baths' column\n",
    "df8['Baths'] = df8['Baths'].str.replace('[^\\d.]', '').astype(int)\n",
    "\n",
    "# Clean and convert 'Beds' column\n",
    "df8['Beds'] = df8['Beds'].str.replace('[^\\d.]', '').astype(int)\n",
    "\n",
    "df8['Price'] = (df8['Price'] / 100000).round(2)\n",
    "df8['house_price_per_sqft'] = (df8['house_price_per_sqft']).round(2)\n",
    "df8['land_price_per_perches'] = (df8['land_price_per_perches']/ 100000).round(2)\n",
    "\n",
    "\n",
    "df8.info()"
   ]
  },
  {
   "cell_type": "code",
   "execution_count": 48,
   "id": "46941d3f-ae21-4b8b-9247-221378ad807c",
   "metadata": {},
   "outputs": [
    {
     "data": {
      "text/html": [
       "<div>\n",
       "<style scoped>\n",
       "    .dataframe tbody tr th:only-of-type {\n",
       "        vertical-align: middle;\n",
       "    }\n",
       "\n",
       "    .dataframe tbody tr th {\n",
       "        vertical-align: top;\n",
       "    }\n",
       "\n",
       "    .dataframe thead th {\n",
       "        text-align: right;\n",
       "    }\n",
       "</style>\n",
       "<table border=\"1\" class=\"dataframe\">\n",
       "  <thead>\n",
       "    <tr style=\"text-align: right;\">\n",
       "      <th></th>\n",
       "      <th>Price</th>\n",
       "      <th>Baths</th>\n",
       "      <th>Land size</th>\n",
       "      <th>Beds</th>\n",
       "      <th>House size</th>\n",
       "      <th>Location</th>\n",
       "      <th>LSP</th>\n",
       "      <th>HSsqft</th>\n",
       "      <th>City</th>\n",
       "      <th>District</th>\n",
       "      <th>house_price_per_sqft</th>\n",
       "      <th>land_price_per_perches</th>\n",
       "    </tr>\n",
       "  </thead>\n",
       "  <tbody>\n",
       "    <tr>\n",
       "      <th>213</th>\n",
       "      <td>1700.0</td>\n",
       "      <td>7</td>\n",
       "      <td>24.0 perches</td>\n",
       "      <td>6</td>\n",
       "      <td>1,400.0 sqft</td>\n",
       "      <td>Talawatugoda,  Colombo</td>\n",
       "      <td>24.0</td>\n",
       "      <td>1400.00</td>\n",
       "      <td>Talawatugoda</td>\n",
       "      <td>Colombo</td>\n",
       "      <td>121428.57</td>\n",
       "      <td>70.83</td>\n",
       "    </tr>\n",
       "    <tr>\n",
       "      <th>478</th>\n",
       "      <td>510.0</td>\n",
       "      <td>1</td>\n",
       "      <td>34.0 perches</td>\n",
       "      <td>6</td>\n",
       "      <td>1,200.0 sqft</td>\n",
       "      <td>Panadura,  Kalutara</td>\n",
       "      <td>34.0</td>\n",
       "      <td>1200.00</td>\n",
       "      <td>Panadura</td>\n",
       "      <td>Kalutara</td>\n",
       "      <td>42500.00</td>\n",
       "      <td>15.00</td>\n",
       "    </tr>\n",
       "    <tr>\n",
       "      <th>529</th>\n",
       "      <td>42.0</td>\n",
       "      <td>2</td>\n",
       "      <td>2.0 perches</td>\n",
       "      <td>2</td>\n",
       "      <td>275.52 sqft</td>\n",
       "      <td>Colombo 9,  Colombo</td>\n",
       "      <td>2.0</td>\n",
       "      <td>275.52</td>\n",
       "      <td>Colombo</td>\n",
       "      <td>Colombo</td>\n",
       "      <td>15243.90</td>\n",
       "      <td>21.00</td>\n",
       "    </tr>\n",
       "    <tr>\n",
       "      <th>530</th>\n",
       "      <td>3.7</td>\n",
       "      <td>1</td>\n",
       "      <td>14.0 perches</td>\n",
       "      <td>3</td>\n",
       "      <td>14.0 sqft</td>\n",
       "      <td>Ambalangoda,  Galle</td>\n",
       "      <td>14.0</td>\n",
       "      <td>14.00</td>\n",
       "      <td>Ambalangoda</td>\n",
       "      <td>Galle</td>\n",
       "      <td>26428.57</td>\n",
       "      <td>0.26</td>\n",
       "    </tr>\n",
       "    <tr>\n",
       "      <th>642</th>\n",
       "      <td>315.0</td>\n",
       "      <td>5</td>\n",
       "      <td>7.2 perches</td>\n",
       "      <td>4</td>\n",
       "      <td>7.5 sqft</td>\n",
       "      <td>Piliyandala,  Colombo</td>\n",
       "      <td>7.2</td>\n",
       "      <td>7.50</td>\n",
       "      <td>Piliyandala</td>\n",
       "      <td>Colombo</td>\n",
       "      <td>4200000.00</td>\n",
       "      <td>43.75</td>\n",
       "    </tr>\n",
       "  </tbody>\n",
       "</table>\n",
       "</div>"
      ],
      "text/plain": [
       "      Price  Baths     Land size  Beds    House size                 Location  \\\n",
       "213  1700.0      7  24.0 perches     6  1,400.0 sqft   Talawatugoda,  Colombo   \n",
       "478   510.0      1  34.0 perches     6  1,200.0 sqft      Panadura,  Kalutara   \n",
       "529    42.0      2   2.0 perches     2   275.52 sqft      Colombo 9,  Colombo   \n",
       "530     3.7      1  14.0 perches     3     14.0 sqft      Ambalangoda,  Galle   \n",
       "642   315.0      5   7.2 perches     4      7.5 sqft    Piliyandala,  Colombo   \n",
       "\n",
       "      LSP   HSsqft          City  District  house_price_per_sqft  \\\n",
       "213  24.0  1400.00  Talawatugoda   Colombo             121428.57   \n",
       "478  34.0  1200.00      Panadura  Kalutara              42500.00   \n",
       "529   2.0   275.52       Colombo   Colombo              15243.90   \n",
       "530  14.0    14.00   Ambalangoda     Galle              26428.57   \n",
       "642   7.2     7.50   Piliyandala   Colombo            4200000.00   \n",
       "\n",
       "     land_price_per_perches  \n",
       "213                   70.83  \n",
       "478                   15.00  \n",
       "529                   21.00  \n",
       "530                    0.26  \n",
       "642                   43.75  "
      ]
     },
     "execution_count": 48,
     "metadata": {},
     "output_type": "execute_result"
    }
   ],
   "source": [
    "df8[df8.HSsqft/df8.Beds<250].head()"
   ]
  },
  {
   "cell_type": "code",
   "execution_count": 49,
   "id": "a30efa44-5917-403c-aa89-0243412d4316",
   "metadata": {},
   "outputs": [
    {
     "data": {
      "text/plain": [
       "(15269, 12)"
      ]
     },
     "execution_count": 49,
     "metadata": {},
     "output_type": "execute_result"
    }
   ],
   "source": [
    "df8.shape"
   ]
  },
  {
   "cell_type": "code",
   "execution_count": 50,
   "id": "4a6b78c9-6c44-4ffb-b7e6-5268a891aeb9",
   "metadata": {},
   "outputs": [
    {
     "data": {
      "text/plain": [
       "(15082, 12)"
      ]
     },
     "execution_count": 50,
     "metadata": {},
     "output_type": "execute_result"
    }
   ],
   "source": [
    "df8 = df8[~(df8.HSsqft/df8.Beds<250)]\n",
    "df8.shape"
   ]
  },
  {
   "cell_type": "markdown",
   "id": "cdf96c3d-da84-40ce-b002-8deb59077fce",
   "metadata": {},
   "source": [
    "## Outlier Removal Using Standard Deviation and Mean\n"
   ]
  },
  {
   "cell_type": "code",
   "execution_count": 51,
   "id": "9ecb020d-2625-4c30-bd10-d4f19e10a130",
   "metadata": {},
   "outputs": [
    {
     "data": {
      "text/plain": [
       "count     15082.000000\n",
       "mean      12290.546352\n",
       "std       10007.750779\n",
       "min           1.000000\n",
       "25%        8412.700000\n",
       "50%       10286.195000\n",
       "75%       13200.000000\n",
       "max      262800.000000\n",
       "Name: house_price_per_sqft, dtype: float64"
      ]
     },
     "execution_count": 51,
     "metadata": {},
     "output_type": "execute_result"
    }
   ],
   "source": [
    "df8.house_price_per_sqft.describe()"
   ]
  },
  {
   "cell_type": "markdown",
   "id": "37fce6ed-d933-4c03-91ff-8dc5ab43ed15",
   "metadata": {},
   "source": [
    "#### Remove outliers per location using mean and one standard deviation"
   ]
  },
  {
   "cell_type": "code",
   "execution_count": 52,
   "id": "ca59de58-6d33-4ede-b5ac-b2ca5a31922e",
   "metadata": {},
   "outputs": [
    {
     "data": {
      "text/plain": [
       "(13463, 12)"
      ]
     },
     "execution_count": 52,
     "metadata": {},
     "output_type": "execute_result"
    }
   ],
   "source": [
    "def remove_pps_outliers(df):\n",
    "    df_out = pd.DataFrame()\n",
    "    for key, subdf in df.groupby('City'):\n",
    "        m = np.mean(subdf.house_price_per_sqft)\n",
    "        st = np.std(subdf.house_price_per_sqft)\n",
    "        reduced_df = subdf[(subdf.house_price_per_sqft>(m-st)) & (subdf.house_price_per_sqft<=(m+st))]\n",
    "        df_out = pd.concat([df_out,reduced_df],ignore_index=True)\n",
    "    return df_out\n",
    "df9 = remove_pps_outliers(df8)\n",
    "df9.shape"
   ]
  },
  {
   "cell_type": "code",
   "execution_count": 53,
   "id": "93c2df3c-6329-4335-9ef5-ee5cf6383e58",
   "metadata": {},
   "outputs": [
    {
     "data": {
      "text/html": [
       "<div>\n",
       "<style scoped>\n",
       "    .dataframe tbody tr th:only-of-type {\n",
       "        vertical-align: middle;\n",
       "    }\n",
       "\n",
       "    .dataframe tbody tr th {\n",
       "        vertical-align: top;\n",
       "    }\n",
       "\n",
       "    .dataframe thead th {\n",
       "        text-align: right;\n",
       "    }\n",
       "</style>\n",
       "<table border=\"1\" class=\"dataframe\">\n",
       "  <thead>\n",
       "    <tr style=\"text-align: right;\">\n",
       "      <th></th>\n",
       "      <th>Price</th>\n",
       "      <th>Baths</th>\n",
       "      <th>Land size</th>\n",
       "      <th>Beds</th>\n",
       "      <th>House size</th>\n",
       "      <th>Location</th>\n",
       "      <th>LSP</th>\n",
       "      <th>HSsqft</th>\n",
       "      <th>City</th>\n",
       "      <th>District</th>\n",
       "      <th>house_price_per_sqft</th>\n",
       "      <th>land_price_per_perches</th>\n",
       "    </tr>\n",
       "  </thead>\n",
       "  <tbody>\n",
       "    <tr>\n",
       "      <th>0</th>\n",
       "      <td>65.0</td>\n",
       "      <td>1</td>\n",
       "      <td>10.0 perches</td>\n",
       "      <td>3</td>\n",
       "      <td>800.0 sqft</td>\n",
       "      <td>Ahangama,  Galle</td>\n",
       "      <td>10.0</td>\n",
       "      <td>800.0</td>\n",
       "      <td>Ahangama</td>\n",
       "      <td>Galle</td>\n",
       "      <td>8125.00</td>\n",
       "      <td>6.50</td>\n",
       "    </tr>\n",
       "    <tr>\n",
       "      <th>1</th>\n",
       "      <td>70.0</td>\n",
       "      <td>1</td>\n",
       "      <td>13.0 perches</td>\n",
       "      <td>3</td>\n",
       "      <td>1,000.0 sqft</td>\n",
       "      <td>Ahangama,  Galle</td>\n",
       "      <td>13.0</td>\n",
       "      <td>1000.0</td>\n",
       "      <td>Ahangama</td>\n",
       "      <td>Galle</td>\n",
       "      <td>7000.00</td>\n",
       "      <td>5.38</td>\n",
       "    </tr>\n",
       "    <tr>\n",
       "      <th>2</th>\n",
       "      <td>58.0</td>\n",
       "      <td>1</td>\n",
       "      <td>11.0 perches</td>\n",
       "      <td>1</td>\n",
       "      <td>1,127.0 sqft</td>\n",
       "      <td>Ahangama,  Galle</td>\n",
       "      <td>11.0</td>\n",
       "      <td>1127.0</td>\n",
       "      <td>Ahangama</td>\n",
       "      <td>Galle</td>\n",
       "      <td>5146.41</td>\n",
       "      <td>5.27</td>\n",
       "    </tr>\n",
       "    <tr>\n",
       "      <th>3</th>\n",
       "      <td>84.0</td>\n",
       "      <td>1</td>\n",
       "      <td>16.0 perches</td>\n",
       "      <td>3</td>\n",
       "      <td>1,350.0 sqft</td>\n",
       "      <td>Ahangama,  Galle</td>\n",
       "      <td>16.0</td>\n",
       "      <td>1350.0</td>\n",
       "      <td>Ahangama</td>\n",
       "      <td>Galle</td>\n",
       "      <td>6222.22</td>\n",
       "      <td>5.25</td>\n",
       "    </tr>\n",
       "    <tr>\n",
       "      <th>4</th>\n",
       "      <td>65.0</td>\n",
       "      <td>1</td>\n",
       "      <td>10.0 perches</td>\n",
       "      <td>3</td>\n",
       "      <td>800.0 sqft</td>\n",
       "      <td>Ahangama,  Galle</td>\n",
       "      <td>10.0</td>\n",
       "      <td>800.0</td>\n",
       "      <td>Ahangama</td>\n",
       "      <td>Galle</td>\n",
       "      <td>8125.00</td>\n",
       "      <td>6.50</td>\n",
       "    </tr>\n",
       "  </tbody>\n",
       "</table>\n",
       "</div>"
      ],
      "text/plain": [
       "   Price  Baths     Land size  Beds    House size           Location   LSP  \\\n",
       "0   65.0      1  10.0 perches     3    800.0 sqft   Ahangama,  Galle  10.0   \n",
       "1   70.0      1  13.0 perches     3  1,000.0 sqft   Ahangama,  Galle  13.0   \n",
       "2   58.0      1  11.0 perches     1  1,127.0 sqft   Ahangama,  Galle  11.0   \n",
       "3   84.0      1  16.0 perches     3  1,350.0 sqft   Ahangama,  Galle  16.0   \n",
       "4   65.0      1  10.0 perches     3    800.0 sqft   Ahangama,  Galle  10.0   \n",
       "\n",
       "   HSsqft      City District  house_price_per_sqft  land_price_per_perches  \n",
       "0   800.0  Ahangama    Galle               8125.00                    6.50  \n",
       "1  1000.0  Ahangama    Galle               7000.00                    5.38  \n",
       "2  1127.0  Ahangama    Galle               5146.41                    5.27  \n",
       "3  1350.0  Ahangama    Galle               6222.22                    5.25  \n",
       "4   800.0  Ahangama    Galle               8125.00                    6.50  "
      ]
     },
     "execution_count": 53,
     "metadata": {},
     "output_type": "execute_result"
    }
   ],
   "source": [
    "df9.head()"
   ]
  },
  {
   "cell_type": "code",
   "execution_count": 54,
   "id": "e3d3dbb3-902e-4780-84c1-e472f72d2ca9",
   "metadata": {},
   "outputs": [
    {
     "data": {
      "text/html": [
       "<div>\n",
       "<style scoped>\n",
       "    .dataframe tbody tr th:only-of-type {\n",
       "        vertical-align: middle;\n",
       "    }\n",
       "\n",
       "    .dataframe tbody tr th {\n",
       "        vertical-align: top;\n",
       "    }\n",
       "\n",
       "    .dataframe thead th {\n",
       "        text-align: right;\n",
       "    }\n",
       "</style>\n",
       "<table border=\"1\" class=\"dataframe\">\n",
       "  <thead>\n",
       "    <tr style=\"text-align: right;\">\n",
       "      <th></th>\n",
       "      <th>Price</th>\n",
       "      <th>Baths</th>\n",
       "      <th>Beds</th>\n",
       "      <th>LSP</th>\n",
       "      <th>HSsqft</th>\n",
       "      <th>house_price_per_sqft</th>\n",
       "      <th>land_price_per_perches</th>\n",
       "    </tr>\n",
       "  </thead>\n",
       "  <tbody>\n",
       "    <tr>\n",
       "      <th>count</th>\n",
       "      <td>13463.000000</td>\n",
       "      <td>13463.000000</td>\n",
       "      <td>13463.000000</td>\n",
       "      <td>13463.000000</td>\n",
       "      <td>13463.000000</td>\n",
       "      <td>13463.000000</td>\n",
       "      <td>13463.000000</td>\n",
       "    </tr>\n",
       "    <tr>\n",
       "      <th>mean</th>\n",
       "      <td>324.540024</td>\n",
       "      <td>2.998737</td>\n",
       "      <td>3.963678</td>\n",
       "      <td>14.184493</td>\n",
       "      <td>2733.800998</td>\n",
       "      <td>11235.417203</td>\n",
       "      <td>30.487488</td>\n",
       "    </tr>\n",
       "    <tr>\n",
       "      <th>std</th>\n",
       "      <td>306.346249</td>\n",
       "      <td>1.305878</td>\n",
       "      <td>1.160281</td>\n",
       "      <td>75.643097</td>\n",
       "      <td>1543.988144</td>\n",
       "      <td>5275.425728</td>\n",
       "      <td>23.309754</td>\n",
       "    </tr>\n",
       "    <tr>\n",
       "      <th>min</th>\n",
       "      <td>3.000000</td>\n",
       "      <td>1.000000</td>\n",
       "      <td>1.000000</td>\n",
       "      <td>0.750000</td>\n",
       "      <td>300.000000</td>\n",
       "      <td>79.170000</td>\n",
       "      <td>0.030000</td>\n",
       "    </tr>\n",
       "    <tr>\n",
       "      <th>25%</th>\n",
       "      <td>170.000000</td>\n",
       "      <td>2.000000</td>\n",
       "      <td>3.000000</td>\n",
       "      <td>7.500000</td>\n",
       "      <td>1743.500000</td>\n",
       "      <td>8460.880000</td>\n",
       "      <td>16.080000</td>\n",
       "    </tr>\n",
       "    <tr>\n",
       "      <th>50%</th>\n",
       "      <td>260.000000</td>\n",
       "      <td>3.000000</td>\n",
       "      <td>4.000000</td>\n",
       "      <td>10.000000</td>\n",
       "      <td>2551.000000</td>\n",
       "      <td>10200.000000</td>\n",
       "      <td>26.920000</td>\n",
       "    </tr>\n",
       "    <tr>\n",
       "      <th>75%</th>\n",
       "      <td>360.000000</td>\n",
       "      <td>4.000000</td>\n",
       "      <td>4.000000</td>\n",
       "      <td>13.000000</td>\n",
       "      <td>3300.000000</td>\n",
       "      <td>12500.000000</td>\n",
       "      <td>40.000000</td>\n",
       "    </tr>\n",
       "    <tr>\n",
       "      <th>max</th>\n",
       "      <td>10000.000000</td>\n",
       "      <td>10.000000</td>\n",
       "      <td>10.000000</td>\n",
       "      <td>3200.000000</td>\n",
       "      <td>50000.000000</td>\n",
       "      <td>59523.810000</td>\n",
       "      <td>1000.000000</td>\n",
       "    </tr>\n",
       "  </tbody>\n",
       "</table>\n",
       "</div>"
      ],
      "text/plain": [
       "              Price         Baths          Beds           LSP        HSsqft  \\\n",
       "count  13463.000000  13463.000000  13463.000000  13463.000000  13463.000000   \n",
       "mean     324.540024      2.998737      3.963678     14.184493   2733.800998   \n",
       "std      306.346249      1.305878      1.160281     75.643097   1543.988144   \n",
       "min        3.000000      1.000000      1.000000      0.750000    300.000000   \n",
       "25%      170.000000      2.000000      3.000000      7.500000   1743.500000   \n",
       "50%      260.000000      3.000000      4.000000     10.000000   2551.000000   \n",
       "75%      360.000000      4.000000      4.000000     13.000000   3300.000000   \n",
       "max    10000.000000     10.000000     10.000000   3200.000000  50000.000000   \n",
       "\n",
       "       house_price_per_sqft  land_price_per_perches  \n",
       "count          13463.000000            13463.000000  \n",
       "mean           11235.417203               30.487488  \n",
       "std             5275.425728               23.309754  \n",
       "min               79.170000                0.030000  \n",
       "25%             8460.880000               16.080000  \n",
       "50%            10200.000000               26.920000  \n",
       "75%            12500.000000               40.000000  \n",
       "max            59523.810000             1000.000000  "
      ]
     },
     "execution_count": 54,
     "metadata": {},
     "output_type": "execute_result"
    }
   ],
   "source": [
    "df9.describe()"
   ]
  },
  {
   "cell_type": "markdown",
   "id": "baaa3984-5dff-4e62-823e-a4255ac23d4e",
   "metadata": {},
   "source": [
    "#### Let's check if for a given district how does the 2 Beds and 3 Beds property prices look like"
   ]
  },
  {
   "cell_type": "code",
   "execution_count": 55,
   "id": "6651dbfc-acb1-4d7e-b0a8-5687cad5c733",
   "metadata": {},
   "outputs": [],
   "source": [
    "# Group by 'District' and then apply a function to compare prices of 2-bed and 3-bed homes\n",
    "#district_comparison = df9.groupby('District').apply(lambda x: pd.Series({\n",
    "#    'Average price (2 beds)': x[x['Beds'] == 2]['Price'].mean(),\n",
    "#    'Average price (3 beds)': x[x['Beds'] == 3]['Price'].mean(),\n",
    "#    '2 beds > 3 beds': x[x['Beds'] == 2]['Price'].mean() > x[x['Beds'] == 3]['Price'].mean()\n",
    "#}))\n",
    "\n",
    "#district_comparison"
   ]
  },
  {
   "cell_type": "code",
   "execution_count": 56,
   "id": "623850b3-e2f0-494c-91d1-ff4ca856e368",
   "metadata": {},
   "outputs": [
    {
     "data": {
      "text/html": [
       "<div>\n",
       "<style scoped>\n",
       "    .dataframe tbody tr th:only-of-type {\n",
       "        vertical-align: middle;\n",
       "    }\n",
       "\n",
       "    .dataframe tbody tr th {\n",
       "        vertical-align: top;\n",
       "    }\n",
       "\n",
       "    .dataframe thead th {\n",
       "        text-align: right;\n",
       "    }\n",
       "</style>\n",
       "<table border=\"1\" class=\"dataframe\">\n",
       "  <thead>\n",
       "    <tr style=\"text-align: right;\">\n",
       "      <th></th>\n",
       "      <th>Average price (2 beds)</th>\n",
       "      <th>Average price (3 beds)</th>\n",
       "      <th>2 beds &gt; 3 beds</th>\n",
       "    </tr>\n",
       "    <tr>\n",
       "      <th>District</th>\n",
       "      <th></th>\n",
       "      <th></th>\n",
       "      <th></th>\n",
       "    </tr>\n",
       "  </thead>\n",
       "  <tbody>\n",
       "    <tr>\n",
       "      <th>Ampara</th>\n",
       "      <td>NaN</td>\n",
       "      <td>40.250000</td>\n",
       "      <td>False</td>\n",
       "    </tr>\n",
       "    <tr>\n",
       "      <th>Anuradhapura</th>\n",
       "      <td>105.000000</td>\n",
       "      <td>76.750000</td>\n",
       "      <td>True</td>\n",
       "    </tr>\n",
       "    <tr>\n",
       "      <th>Badulla</th>\n",
       "      <td>135.000000</td>\n",
       "      <td>164.250000</td>\n",
       "      <td>False</td>\n",
       "    </tr>\n",
       "    <tr>\n",
       "      <th>Batticaloa</th>\n",
       "      <td>69.250000</td>\n",
       "      <td>150.000000</td>\n",
       "      <td>False</td>\n",
       "    </tr>\n",
       "    <tr>\n",
       "      <th>Colombo</th>\n",
       "      <td>128.891344</td>\n",
       "      <td>197.867314</td>\n",
       "      <td>False</td>\n",
       "    </tr>\n",
       "    <tr>\n",
       "      <th>Galle</th>\n",
       "      <td>58.325581</td>\n",
       "      <td>98.246602</td>\n",
       "      <td>False</td>\n",
       "    </tr>\n",
       "    <tr>\n",
       "      <th>Gampaha</th>\n",
       "      <td>96.043353</td>\n",
       "      <td>163.343482</td>\n",
       "      <td>False</td>\n",
       "    </tr>\n",
       "    <tr>\n",
       "      <th>Hambantota</th>\n",
       "      <td>42.625000</td>\n",
       "      <td>62.500000</td>\n",
       "      <td>False</td>\n",
       "    </tr>\n",
       "    <tr>\n",
       "      <th>Jaffna</th>\n",
       "      <td>NaN</td>\n",
       "      <td>123.000000</td>\n",
       "      <td>False</td>\n",
       "    </tr>\n",
       "    <tr>\n",
       "      <th>Kalutara</th>\n",
       "      <td>70.863636</td>\n",
       "      <td>116.052381</td>\n",
       "      <td>False</td>\n",
       "    </tr>\n",
       "    <tr>\n",
       "      <th>Kandy</th>\n",
       "      <td>73.927500</td>\n",
       "      <td>189.262182</td>\n",
       "      <td>False</td>\n",
       "    </tr>\n",
       "    <tr>\n",
       "      <th>Kegalle</th>\n",
       "      <td>54.666667</td>\n",
       "      <td>112.272727</td>\n",
       "      <td>False</td>\n",
       "    </tr>\n",
       "    <tr>\n",
       "      <th>Kurunegala</th>\n",
       "      <td>94.666667</td>\n",
       "      <td>106.564103</td>\n",
       "      <td>False</td>\n",
       "    </tr>\n",
       "    <tr>\n",
       "      <th>Mannar</th>\n",
       "      <td>NaN</td>\n",
       "      <td>195.000000</td>\n",
       "      <td>False</td>\n",
       "    </tr>\n",
       "    <tr>\n",
       "      <th>Matale</th>\n",
       "      <td>79.166667</td>\n",
       "      <td>91.666667</td>\n",
       "      <td>False</td>\n",
       "    </tr>\n",
       "    <tr>\n",
       "      <th>Matara</th>\n",
       "      <td>80.000000</td>\n",
       "      <td>103.734615</td>\n",
       "      <td>False</td>\n",
       "    </tr>\n",
       "    <tr>\n",
       "      <th>Monaragala</th>\n",
       "      <td>NaN</td>\n",
       "      <td>56.500000</td>\n",
       "      <td>False</td>\n",
       "    </tr>\n",
       "    <tr>\n",
       "      <th>Mullativu</th>\n",
       "      <td>37.000000</td>\n",
       "      <td>NaN</td>\n",
       "      <td>False</td>\n",
       "    </tr>\n",
       "    <tr>\n",
       "      <th>Nuwara Eliya</th>\n",
       "      <td>59.000000</td>\n",
       "      <td>NaN</td>\n",
       "      <td>False</td>\n",
       "    </tr>\n",
       "    <tr>\n",
       "      <th>Polonnaruwa</th>\n",
       "      <td>55.000000</td>\n",
       "      <td>70.000000</td>\n",
       "      <td>False</td>\n",
       "    </tr>\n",
       "    <tr>\n",
       "      <th>Puttalam</th>\n",
       "      <td>49.857143</td>\n",
       "      <td>91.416667</td>\n",
       "      <td>False</td>\n",
       "    </tr>\n",
       "    <tr>\n",
       "      <th>Ratnapura</th>\n",
       "      <td>85.833333</td>\n",
       "      <td>43.200000</td>\n",
       "      <td>True</td>\n",
       "    </tr>\n",
       "    <tr>\n",
       "      <th>Trincomalee</th>\n",
       "      <td>NaN</td>\n",
       "      <td>25.000000</td>\n",
       "      <td>False</td>\n",
       "    </tr>\n",
       "  </tbody>\n",
       "</table>\n",
       "</div>"
      ],
      "text/plain": [
       "              Average price (2 beds)  Average price (3 beds)  2 beds > 3 beds\n",
       "District                                                                     \n",
       "Ampara                           NaN               40.250000            False\n",
       "Anuradhapura              105.000000               76.750000             True\n",
       "Badulla                   135.000000              164.250000            False\n",
       "Batticaloa                 69.250000              150.000000            False\n",
       "Colombo                   128.891344              197.867314            False\n",
       "Galle                      58.325581               98.246602            False\n",
       "Gampaha                    96.043353              163.343482            False\n",
       "Hambantota                 42.625000               62.500000            False\n",
       "Jaffna                           NaN              123.000000            False\n",
       "Kalutara                   70.863636              116.052381            False\n",
       "Kandy                      73.927500              189.262182            False\n",
       "Kegalle                    54.666667              112.272727            False\n",
       "Kurunegala                 94.666667              106.564103            False\n",
       "Mannar                           NaN              195.000000            False\n",
       "Matale                     79.166667               91.666667            False\n",
       "Matara                     80.000000              103.734615            False\n",
       "Monaragala                       NaN               56.500000            False\n",
       "Mullativu                  37.000000                     NaN            False\n",
       "Nuwara Eliya               59.000000                     NaN            False\n",
       "Polonnaruwa                55.000000               70.000000            False\n",
       "Puttalam                   49.857143               91.416667            False\n",
       "Ratnapura                  85.833333               43.200000             True\n",
       "Trincomalee                      NaN               25.000000            False"
      ]
     },
     "execution_count": 56,
     "metadata": {},
     "output_type": "execute_result"
    }
   ],
   "source": [
    "# Group by 'District' and calculate average prices for 2-bed and 3-bed homes\n",
    "def compare_prices(group):\n",
    "    avg_price_2_beds = group[group['Beds'] == 2]['Price'].mean()\n",
    "    avg_price_3_beds = group[group['Beds'] == 3]['Price'].mean()\n",
    "    comparison_result = avg_price_2_beds > avg_price_3_beds\n",
    "    return pd.Series({\n",
    "        'Average price (2 beds)': avg_price_2_beds,\n",
    "        'Average price (3 beds)': avg_price_3_beds,\n",
    "        '2 beds > 3 beds': comparison_result\n",
    "    })\n",
    "\n",
    "district_comparison = df9.groupby('District').apply(compare_prices)\n",
    "\n",
    "district_comparison"
   ]
  },
  {
   "cell_type": "code",
   "execution_count": 57,
   "id": "5511925c-4a27-4451-b797-f289e8cd6fcf",
   "metadata": {},
   "outputs": [
    {
     "data": {
      "image/png": "[encoded data removed]",
      "text/plain": [
       "<Figure size 2000x1000 with 1 Axes>"
      ]
     },
     "metadata": {},
     "output_type": "display_data"
    }
   ],
   "source": [
    "# Plotting the average prices for 2-bed and 3-bed homes by district\n",
    "district_comparison[['Average price (2 beds)', 'Average price (3 beds)']].plot(kind='bar')\n",
    "plt.ylabel('Average Price')\n",
    "plt.title('Comparison of Average Prices of 2-bed and 3-bed Homes by District')\n",
    "plt.show()"
   ]
  },
  {
   "cell_type": "code",
   "execution_count": 58,
   "id": "904a7e9b-7a1a-49ec-a1d6-3bad9c75e22f",
   "metadata": {},
   "outputs": [
    {
     "data": {
      "image/png": "[encoded data removed]",
      "text/plain": [
       "<Figure size 1000x500 with 1 Axes>"
      ]
     },
     "metadata": {},
     "output_type": "display_data"
    }
   ],
   "source": [
    "def plot_scatter_chart_1(df,District):\n",
    "    bed2 = df[(df.District==District) & (df.Beds==2)]\n",
    "    bed3 = df[(df.District==District) & (df.Beds==3)]\n",
    "    matplotlib.rcParams['figure.figsize'] = (10,5)\n",
    "    plt.scatter(bed2.HSsqft,bed2.Price,color='blue',label='2 Beds')\n",
    "    plt.scatter(bed3.HSsqft,bed3.Price,marker='+', color='green',label='3 Beds')\n",
    "    plt.xlabel(\"House Square Feet Area\")\n",
    "    plt.ylabel(\"Price (SL Rupees)\")\n",
    "    plt.title(District)\n",
    "    plt.legend()\n",
    "    \n",
    "plot_scatter_chart_1(df9,\"Anuradhapura\")"
   ]
  },
  {
   "cell_type": "code",
   "execution_count": 59,
   "id": "1f40bf44-dd27-4c0a-a8d7-9a30d6e0d260",
   "metadata": {},
   "outputs": [
    {
     "data": {
      "image/png": "[encoded data removed]",
      "text/plain": [
       "<Figure size 1000x500 with 1 Axes>"
      ]
     },
     "metadata": {},
     "output_type": "display_data"
    }
   ],
   "source": [
    "def plot_scatter_chart_2(df,District):\n",
    "    bed2 = df[(df.District==District) & (df.Beds==2)]\n",
    "    bed3 = df[(df.District==District) & (df.Beds==3)]\n",
    "    matplotlib.rcParams['figure.figsize'] = (10,5)\n",
    "    plt.scatter(bed2.LSP,bed2.Price,color='blue',label='2 Beds')\n",
    "    plt.scatter(bed3.LSP,bed3.Price,marker='+', color='green',label='3 Beds')\n",
    "    plt.xlabel(\"Land Perches\")\n",
    "    plt.ylabel(\"Price (SL Rupees)\")\n",
    "    plt.title(District)\n",
    "    plt.legend()\n",
    "    \n",
    "plot_scatter_chart_2(df9,\"Anuradhapura\")"
   ]
  },
  {
   "cell_type": "code",
   "execution_count": 60,
   "id": "5b55d07c-779e-4bbb-ab79-7fa968149f7d",
   "metadata": {},
   "outputs": [
    {
     "data": {
      "image/png": "[encoded data removed]",
      "text/plain": [
       "<Figure size 1000x500 with 1 Axes>"
      ]
     },
     "metadata": {},
     "output_type": "display_data"
    }
   ],
   "source": [
    "plot_scatter_chart_1(df9,\"Ratnapura\")"
   ]
  },
  {
   "cell_type": "code",
   "execution_count": 61,
   "id": "20e0cc6b-89a3-4491-8ebd-7a3991095db6",
   "metadata": {},
   "outputs": [
    {
     "data": {
      "image/png": "[encoded data removed]",
      "text/plain": [
       "<Figure size 1000x500 with 1 Axes>"
      ]
     },
     "metadata": {},
     "output_type": "display_data"
    }
   ],
   "source": [
    "plot_scatter_chart_2(df9,\"Ratnapura\")"
   ]
  },
  {
   "cell_type": "markdown",
   "id": "48796028-aba5-47e2-8988-f9fffb887690",
   "metadata": {},
   "source": [
    "#### Now remove those 2 Beds apartments whose house_price_per_sqft is less than mean house_price_per_sqft of 1 Bed apartment\n"
   ]
  },
  {
   "cell_type": "code",
   "execution_count": 62,
   "id": "6773591c-1098-489c-9795-4e5c465793b0",
   "metadata": {},
   "outputs": [
    {
     "data": {
      "text/plain": [
       "(6701, 12)"
      ]
     },
     "execution_count": 62,
     "metadata": {},
     "output_type": "execute_result"
    }
   ],
   "source": [
    "def remove_beds_outliers(df):\n",
    "    exclude_indices = np.array([])\n",
    "    for District, District_df in df.groupby('District'):\n",
    "        beds_stats = {}\n",
    "        for beds, beds_df in District_df.groupby('Beds'):\n",
    "            beds_stats[beds] = {\n",
    "                'mean': np.mean(beds_df.house_price_per_sqft),\n",
    "                'std': np.std(beds_df.house_price_per_sqft),\n",
    "                'count': beds_df.shape[0]\n",
    "            }\n",
    "        for beds, beds_df in District_df.groupby('Beds'):\n",
    "            stats = beds_stats.get(beds-1)\n",
    "            if stats and stats['count']>5:\n",
    "                exclude_indices = np.append(exclude_indices, beds_df[beds_df.house_price_per_sqft<(stats['mean'])].index.values)\n",
    "    return df.drop(exclude_indices,axis='index')\n",
    "df10 = remove_beds_outliers(df9)\n",
    "# df8 = df7.copy()\n",
    "df10.shape"
   ]
  },
  {
   "cell_type": "code",
   "execution_count": 63,
   "id": "1c632515-79db-462e-85f4-7a8297c9ced3",
   "metadata": {},
   "outputs": [
    {
     "data": {
      "text/plain": [
       "(13463, 12)"
      ]
     },
     "execution_count": 63,
     "metadata": {},
     "output_type": "execute_result"
    }
   ],
   "source": [
    "df9.shape"
   ]
  },
  {
   "cell_type": "code",
   "execution_count": 64,
   "id": "f1205245-eb9f-4425-a293-d48b510a0c0a",
   "metadata": {},
   "outputs": [
    {
     "data": {
      "text/plain": [
       "(6701, 12)"
      ]
     },
     "execution_count": 64,
     "metadata": {},
     "output_type": "execute_result"
    }
   ],
   "source": [
    "df10.shape"
   ]
  },
  {
   "cell_type": "code",
   "execution_count": 65,
   "id": "d4c51fd2-c5a5-49a6-a203-236eb9a86721",
   "metadata": {},
   "outputs": [
    {
     "data": {
      "image/png": "[encoded data removed]",
      "text/plain": [
       "<Figure size 1000x500 with 1 Axes>"
      ]
     },
     "metadata": {},
     "output_type": "display_data"
    }
   ],
   "source": [
    "plot_scatter_chart_1(df9,\"Ratnapura\")"
   ]
  },
  {
   "cell_type": "code",
   "execution_count": 66,
   "id": "5da9bfd2-a486-4c20-b394-3a7b065dbb7b",
   "metadata": {},
   "outputs": [
    {
     "data": {
      "image/png": "[encoded data removed]",
      "text/plain": [
       "<Figure size 1000x500 with 1 Axes>"
      ]
     },
     "metadata": {},
     "output_type": "display_data"
    }
   ],
   "source": [
    "plot_scatter_chart_1(df10,\"Ratnapura\")"
   ]
  },
  {
   "cell_type": "code",
   "execution_count": 67,
   "id": "731a44b9-1054-40b3-b348-a984fbf7e41f",
   "metadata": {},
   "outputs": [
    {
     "data": {
      "text/plain": [
       "Text(0, 0.5, 'Count')"
      ]
     },
     "execution_count": 67,
     "metadata": {},
     "output_type": "execute_result"
    },
    {
     "data": {
      "image/png": "[encoded data removed]",
      "text/plain": [
       "<Figure size 1000x400 with 1 Axes>"
      ]
     },
     "metadata": {},
     "output_type": "display_data"
    }
   ],
   "source": [
    "matplotlib.rcParams[\"figure.figsize\"] = (10,4)\n",
    "plt.hist(df9.house_price_per_sqft,rwidth=0.8)\n",
    "plt.xlabel(\"House Price Per Square Feet\")\n",
    "plt.ylabel(\"Count\")"
   ]
  },
  {
   "cell_type": "code",
   "execution_count": 68,
   "id": "8a488b5f-7d08-428f-a51c-81d231f29530",
   "metadata": {},
   "outputs": [
    {
     "data": {
      "text/plain": [
       "Text(0, 0.5, 'Count')"
      ]
     },
     "execution_count": 68,
     "metadata": {},
     "output_type": "execute_result"
    },
    {
     "data": {
      "image/png": "[encoded data removed]",
      "text/plain": [
       "<Figure size 1000x400 with 1 Axes>"
      ]
     },
     "metadata": {},
     "output_type": "display_data"
    }
   ],
   "source": [
    "matplotlib.rcParams[\"figure.figsize\"] = (10,4)\n",
    "plt.hist(df10.house_price_per_sqft,rwidth=0.8)\n",
    "plt.xlabel(\"House Price Per Square Feet\")\n",
    "plt.ylabel(\"Count\")"
   ]
  },
  {
   "cell_type": "markdown",
   "id": "2f3af7a5-9204-4bd3-82c2-7b0e05c53538",
   "metadata": {},
   "source": [
    "## Outlier Removal Using Bathrooms Feature"
   ]
  },
  {
   "cell_type": "code",
   "execution_count": 69,
   "id": "e3d46130-9b58-4ed5-a7b9-2bd3adac1298",
   "metadata": {},
   "outputs": [
    {
     "data": {
      "text/html": [
       "<div>\n",
       "<style scoped>\n",
       "    .dataframe tbody tr th:only-of-type {\n",
       "        vertical-align: middle;\n",
       "    }\n",
       "\n",
       "    .dataframe tbody tr th {\n",
       "        vertical-align: top;\n",
       "    }\n",
       "\n",
       "    .dataframe thead th {\n",
       "        text-align: right;\n",
       "    }\n",
       "</style>\n",
       "<table border=\"1\" class=\"dataframe\">\n",
       "  <thead>\n",
       "    <tr style=\"text-align: right;\">\n",
       "      <th></th>\n",
       "      <th>Price</th>\n",
       "      <th>Baths</th>\n",
       "      <th>Land size</th>\n",
       "      <th>Beds</th>\n",
       "      <th>House size</th>\n",
       "      <th>Location</th>\n",
       "      <th>LSP</th>\n",
       "      <th>HSsqft</th>\n",
       "      <th>City</th>\n",
       "      <th>District</th>\n",
       "      <th>house_price_per_sqft</th>\n",
       "      <th>land_price_per_perches</th>\n",
       "    </tr>\n",
       "  </thead>\n",
       "  <tbody>\n",
       "    <tr>\n",
       "      <th>0</th>\n",
       "      <td>65.0</td>\n",
       "      <td>1</td>\n",
       "      <td>10.0 perches</td>\n",
       "      <td>3</td>\n",
       "      <td>800.0 sqft</td>\n",
       "      <td>Ahangama,  Galle</td>\n",
       "      <td>10.0</td>\n",
       "      <td>800.0</td>\n",
       "      <td>Ahangama</td>\n",
       "      <td>Galle</td>\n",
       "      <td>8125.0</td>\n",
       "      <td>6.50</td>\n",
       "    </tr>\n",
       "    <tr>\n",
       "      <th>1</th>\n",
       "      <td>70.0</td>\n",
       "      <td>1</td>\n",
       "      <td>13.0 perches</td>\n",
       "      <td>3</td>\n",
       "      <td>1,000.0 sqft</td>\n",
       "      <td>Ahangama,  Galle</td>\n",
       "      <td>13.0</td>\n",
       "      <td>1000.0</td>\n",
       "      <td>Ahangama</td>\n",
       "      <td>Galle</td>\n",
       "      <td>7000.0</td>\n",
       "      <td>5.38</td>\n",
       "    </tr>\n",
       "  </tbody>\n",
       "</table>\n",
       "</div>"
      ],
      "text/plain": [
       "   Price  Baths     Land size  Beds    House size           Location   LSP  \\\n",
       "0   65.0      1  10.0 perches     3    800.0 sqft   Ahangama,  Galle  10.0   \n",
       "1   70.0      1  13.0 perches     3  1,000.0 sqft   Ahangama,  Galle  13.0   \n",
       "\n",
       "   HSsqft      City District  house_price_per_sqft  land_price_per_perches  \n",
       "0   800.0  Ahangama    Galle                8125.0                    6.50  \n",
       "1  1000.0  Ahangama    Galle                7000.0                    5.38  "
      ]
     },
     "execution_count": 69,
     "metadata": {},
     "output_type": "execute_result"
    }
   ],
   "source": [
    "df10.head(2)"
   ]
  },
  {
   "cell_type": "code",
   "execution_count": 70,
   "id": "94fa6185-5e84-4b12-b6f2-d9df6a8fb15b",
   "metadata": {},
   "outputs": [
    {
     "data": {
      "text/plain": [
       "array([ 1,  2,  4,  5,  6,  3,  8,  7, 10,  9])"
      ]
     },
     "execution_count": 70,
     "metadata": {},
     "output_type": "execute_result"
    }
   ],
   "source": [
    "df10.Baths.unique()"
   ]
  },
  {
   "cell_type": "code",
   "execution_count": 71,
   "id": "7b63f394-71c7-4ae2-96c5-a96166fb7a1c",
   "metadata": {},
   "outputs": [
    {
     "data": {
      "text/plain": [
       "Text(0, 0.5, 'Count')"
      ]
     },
     "execution_count": 71,
     "metadata": {},
     "output_type": "execute_result"
    },
    {
     "data": {
      "image/png": "[encoded data removed]",
      "text/plain": [
       "<Figure size 1000x400 with 1 Axes>"
      ]
     },
     "metadata": {},
     "output_type": "display_data"
    }
   ],
   "source": [
    "plt.hist(df10.Baths,rwidth=0.8)\n",
    "plt.xlabel(\"Number of bathrooms\")\n",
    "plt.ylabel(\"Count\")"
   ]
  },
  {
   "cell_type": "markdown",
   "id": "3f0a0d63-5d2c-49b8-9fa9-2d5d9fad4276",
   "metadata": {},
   "source": [
    "#### Find and Remove unusual to have 2 more bathrooms than number of bedrooms in a home"
   ]
  },
  {
   "cell_type": "code",
   "execution_count": 72,
   "id": "2312af61-0c60-4e45-8d8d-d0b5d596928e",
   "metadata": {},
   "outputs": [
    {
     "data": {
      "text/html": [
       "<div>\n",
       "<style scoped>\n",
       "    .dataframe tbody tr th:only-of-type {\n",
       "        vertical-align: middle;\n",
       "    }\n",
       "\n",
       "    .dataframe tbody tr th {\n",
       "        vertical-align: top;\n",
       "    }\n",
       "\n",
       "    .dataframe thead th {\n",
       "        text-align: right;\n",
       "    }\n",
       "</style>\n",
       "<table border=\"1\" class=\"dataframe\">\n",
       "  <thead>\n",
       "    <tr style=\"text-align: right;\">\n",
       "      <th></th>\n",
       "      <th>Price</th>\n",
       "      <th>Baths</th>\n",
       "      <th>Land size</th>\n",
       "      <th>Beds</th>\n",
       "      <th>House size</th>\n",
       "      <th>Location</th>\n",
       "      <th>LSP</th>\n",
       "      <th>HSsqft</th>\n",
       "      <th>City</th>\n",
       "      <th>District</th>\n",
       "      <th>house_price_per_sqft</th>\n",
       "      <th>land_price_per_perches</th>\n",
       "    </tr>\n",
       "  </thead>\n",
       "  <tbody>\n",
       "    <tr>\n",
       "      <th>867</th>\n",
       "      <td>5000.0</td>\n",
       "      <td>10</td>\n",
       "      <td>48.0 perches</td>\n",
       "      <td>5</td>\n",
       "      <td>20,000.0 sqft</td>\n",
       "      <td>Battaramulla,  Colombo</td>\n",
       "      <td>48.0</td>\n",
       "      <td>20000.0</td>\n",
       "      <td>Battaramulla</td>\n",
       "      <td>Colombo</td>\n",
       "      <td>25000.00</td>\n",
       "      <td>104.17</td>\n",
       "    </tr>\n",
       "    <tr>\n",
       "      <th>1211</th>\n",
       "      <td>5000.0</td>\n",
       "      <td>10</td>\n",
       "      <td>48.0 perches</td>\n",
       "      <td>5</td>\n",
       "      <td>20,000.0 sqft</td>\n",
       "      <td>Battaramulla,  Colombo</td>\n",
       "      <td>48.0</td>\n",
       "      <td>20000.0</td>\n",
       "      <td>Battaramulla</td>\n",
       "      <td>Colombo</td>\n",
       "      <td>25000.00</td>\n",
       "      <td>104.17</td>\n",
       "    </tr>\n",
       "    <tr>\n",
       "      <th>2532</th>\n",
       "      <td>15.5</td>\n",
       "      <td>5</td>\n",
       "      <td>40.0 perches</td>\n",
       "      <td>2</td>\n",
       "      <td>14,400.0 sqft</td>\n",
       "      <td>Hambantota City,  Hambantota</td>\n",
       "      <td>40.0</td>\n",
       "      <td>14400.0</td>\n",
       "      <td>Hambantota</td>\n",
       "      <td>Hambantota</td>\n",
       "      <td>107.64</td>\n",
       "      <td>0.39</td>\n",
       "    </tr>\n",
       "  </tbody>\n",
       "</table>\n",
       "</div>"
      ],
      "text/plain": [
       "       Price  Baths     Land size  Beds     House size  \\\n",
       "867   5000.0     10  48.0 perches     5  20,000.0 sqft   \n",
       "1211  5000.0     10  48.0 perches     5  20,000.0 sqft   \n",
       "2532    15.5      5  40.0 perches     2  14,400.0 sqft   \n",
       "\n",
       "                           Location   LSP   HSsqft          City    District  \\\n",
       "867          Battaramulla,  Colombo  48.0  20000.0  Battaramulla     Colombo   \n",
       "1211         Battaramulla,  Colombo  48.0  20000.0  Battaramulla     Colombo   \n",
       "2532   Hambantota City,  Hambantota  40.0  14400.0    Hambantota  Hambantota   \n",
       "\n",
       "      house_price_per_sqft  land_price_per_perches  \n",
       "867               25000.00                  104.17  \n",
       "1211              25000.00                  104.17  \n",
       "2532                107.64                    0.39  "
      ]
     },
     "execution_count": 72,
     "metadata": {},
     "output_type": "execute_result"
    }
   ],
   "source": [
    "df10[df10.Baths>df10.Beds+2]"
   ]
  },
  {
   "cell_type": "code",
   "execution_count": 73,
   "id": "3622d57b-7285-4f6d-b145-033688d21e6b",
   "metadata": {},
   "outputs": [
    {
     "data": {
      "text/plain": [
       "(6622, 12)"
      ]
     },
     "execution_count": 73,
     "metadata": {},
     "output_type": "execute_result"
    }
   ],
   "source": [
    "df11= df10[df10.Baths<df10.Beds+2]\n",
    "df11.shape"
   ]
  },
  {
   "cell_type": "code",
   "execution_count": 74,
   "id": "bb6feba4-4f20-41b6-bcd7-64e0ce844971",
   "metadata": {},
   "outputs": [
    {
     "data": {
      "text/plain": [
       "(6701, 12)"
      ]
     },
     "execution_count": 74,
     "metadata": {},
     "output_type": "execute_result"
    }
   ],
   "source": [
    "df10.shape"
   ]
  },
  {
   "cell_type": "code",
   "execution_count": 75,
   "id": "bd892d87-5cd5-4b20-ac6b-d7b14c5c589c",
   "metadata": {},
   "outputs": [
    {
     "data": {
      "text/html": [
       "<div>\n",
       "<style scoped>\n",
       "    .dataframe tbody tr th:only-of-type {\n",
       "        vertical-align: middle;\n",
       "    }\n",
       "\n",
       "    .dataframe tbody tr th {\n",
       "        vertical-align: top;\n",
       "    }\n",
       "\n",
       "    .dataframe thead th {\n",
       "        text-align: right;\n",
       "    }\n",
       "</style>\n",
       "<table border=\"1\" class=\"dataframe\">\n",
       "  <thead>\n",
       "    <tr style=\"text-align: right;\">\n",
       "      <th></th>\n",
       "      <th>Price</th>\n",
       "      <th>Baths</th>\n",
       "      <th>Beds</th>\n",
       "      <th>LSP</th>\n",
       "      <th>HSsqft</th>\n",
       "      <th>District</th>\n",
       "      <th>house_price_per_sqft</th>\n",
       "    </tr>\n",
       "  </thead>\n",
       "  <tbody>\n",
       "    <tr>\n",
       "      <th>0</th>\n",
       "      <td>65.0</td>\n",
       "      <td>1</td>\n",
       "      <td>3</td>\n",
       "      <td>10.0</td>\n",
       "      <td>800.0</td>\n",
       "      <td>Galle</td>\n",
       "      <td>8125.00</td>\n",
       "    </tr>\n",
       "    <tr>\n",
       "      <th>1</th>\n",
       "      <td>70.0</td>\n",
       "      <td>1</td>\n",
       "      <td>3</td>\n",
       "      <td>13.0</td>\n",
       "      <td>1000.0</td>\n",
       "      <td>Galle</td>\n",
       "      <td>7000.00</td>\n",
       "    </tr>\n",
       "    <tr>\n",
       "      <th>2</th>\n",
       "      <td>58.0</td>\n",
       "      <td>1</td>\n",
       "      <td>1</td>\n",
       "      <td>11.0</td>\n",
       "      <td>1127.0</td>\n",
       "      <td>Galle</td>\n",
       "      <td>5146.41</td>\n",
       "    </tr>\n",
       "  </tbody>\n",
       "</table>\n",
       "</div>"
      ],
      "text/plain": [
       "   Price  Baths  Beds   LSP  HSsqft District  house_price_per_sqft\n",
       "0   65.0      1     3  10.0   800.0    Galle               8125.00\n",
       "1   70.0      1     3  13.0  1000.0    Galle               7000.00\n",
       "2   58.0      1     1  11.0  1127.0    Galle               5146.41"
      ]
     },
     "execution_count": 75,
     "metadata": {},
     "output_type": "execute_result"
    }
   ],
   "source": [
    "df12 = df11.drop(['Land size','House size','City', 'Location','land_price_per_perches'],axis='columns')\n",
    "df12.head(3)"
   ]
  },
  {
   "cell_type": "code",
   "execution_count": 76,
   "id": "c60b1dfe-199e-4dbb-8580-5a1fd19515b1",
   "metadata": {},
   "outputs": [
    {
     "data": {
      "text/plain": [
       "23"
      ]
     },
     "execution_count": 76,
     "metadata": {},
     "output_type": "execute_result"
    }
   ],
   "source": [
    "len(df12['District'].unique())"
   ]
  },
  {
   "cell_type": "markdown",
   "id": "0ba2a866-a6d9-4cf7-894a-862d256dc164",
   "metadata": {},
   "source": [
    "## Use One Hot Encoding For City"
   ]
  },
  {
   "cell_type": "code",
   "execution_count": 77,
   "id": "326d1d6f-b40b-47b4-bef4-ff20967e4eb3",
   "metadata": {},
   "outputs": [
    {
     "data": {
      "text/html": [
       "<div>\n",
       "<style scoped>\n",
       "    .dataframe tbody tr th:only-of-type {\n",
       "        vertical-align: middle;\n",
       "    }\n",
       "\n",
       "    .dataframe tbody tr th {\n",
       "        vertical-align: top;\n",
       "    }\n",
       "\n",
       "    .dataframe thead th {\n",
       "        text-align: right;\n",
       "    }\n",
       "</style>\n",
       "<table border=\"1\" class=\"dataframe\">\n",
       "  <thead>\n",
       "    <tr style=\"text-align: right;\">\n",
       "      <th></th>\n",
       "      <th>Ampara</th>\n",
       "      <th>Anuradhapura</th>\n",
       "      <th>Badulla</th>\n",
       "      <th>Batticaloa</th>\n",
       "      <th>Colombo</th>\n",
       "      <th>Galle</th>\n",
       "      <th>Gampaha</th>\n",
       "      <th>Hambantota</th>\n",
       "      <th>Jaffna</th>\n",
       "      <th>Kalutara</th>\n",
       "      <th>...</th>\n",
       "      <th>Mannar</th>\n",
       "      <th>Matale</th>\n",
       "      <th>Matara</th>\n",
       "      <th>Monaragala</th>\n",
       "      <th>Mullativu</th>\n",
       "      <th>Nuwara Eliya</th>\n",
       "      <th>Polonnaruwa</th>\n",
       "      <th>Puttalam</th>\n",
       "      <th>Ratnapura</th>\n",
       "      <th>Trincomalee</th>\n",
       "    </tr>\n",
       "  </thead>\n",
       "  <tbody>\n",
       "    <tr>\n",
       "      <th>0</th>\n",
       "      <td>0</td>\n",
       "      <td>0</td>\n",
       "      <td>0</td>\n",
       "      <td>0</td>\n",
       "      <td>0</td>\n",
       "      <td>1</td>\n",
       "      <td>0</td>\n",
       "      <td>0</td>\n",
       "      <td>0</td>\n",
       "      <td>0</td>\n",
       "      <td>...</td>\n",
       "      <td>0</td>\n",
       "      <td>0</td>\n",
       "      <td>0</td>\n",
       "      <td>0</td>\n",
       "      <td>0</td>\n",
       "      <td>0</td>\n",
       "      <td>0</td>\n",
       "      <td>0</td>\n",
       "      <td>0</td>\n",
       "      <td>0</td>\n",
       "    </tr>\n",
       "    <tr>\n",
       "      <th>1</th>\n",
       "      <td>0</td>\n",
       "      <td>0</td>\n",
       "      <td>0</td>\n",
       "      <td>0</td>\n",
       "      <td>0</td>\n",
       "      <td>1</td>\n",
       "      <td>0</td>\n",
       "      <td>0</td>\n",
       "      <td>0</td>\n",
       "      <td>0</td>\n",
       "      <td>...</td>\n",
       "      <td>0</td>\n",
       "      <td>0</td>\n",
       "      <td>0</td>\n",
       "      <td>0</td>\n",
       "      <td>0</td>\n",
       "      <td>0</td>\n",
       "      <td>0</td>\n",
       "      <td>0</td>\n",
       "      <td>0</td>\n",
       "      <td>0</td>\n",
       "    </tr>\n",
       "    <tr>\n",
       "      <th>2</th>\n",
       "      <td>0</td>\n",
       "      <td>0</td>\n",
       "      <td>0</td>\n",
       "      <td>0</td>\n",
       "      <td>0</td>\n",
       "      <td>1</td>\n",
       "      <td>0</td>\n",
       "      <td>0</td>\n",
       "      <td>0</td>\n",
       "      <td>0</td>\n",
       "      <td>...</td>\n",
       "      <td>0</td>\n",
       "      <td>0</td>\n",
       "      <td>0</td>\n",
       "      <td>0</td>\n",
       "      <td>0</td>\n",
       "      <td>0</td>\n",
       "      <td>0</td>\n",
       "      <td>0</td>\n",
       "      <td>0</td>\n",
       "      <td>0</td>\n",
       "    </tr>\n",
       "  </tbody>\n",
       "</table>\n",
       "<p>3 rows × 23 columns</p>\n",
       "</div>"
      ],
      "text/plain": [
       "   Ampara  Anuradhapura  Badulla  Batticaloa  Colombo  Galle  Gampaha  \\\n",
       "0       0             0        0           0        0      1        0   \n",
       "1       0             0        0           0        0      1        0   \n",
       "2       0             0        0           0        0      1        0   \n",
       "\n",
       "   Hambantota  Jaffna  Kalutara  ...  Mannar  Matale  Matara  Monaragala  \\\n",
       "0           0       0         0  ...       0       0       0           0   \n",
       "1           0       0         0  ...       0       0       0           0   \n",
       "2           0       0         0  ...       0       0       0           0   \n",
       "\n",
       "   Mullativu  Nuwara Eliya  Polonnaruwa  Puttalam  Ratnapura  Trincomalee  \n",
       "0          0             0            0         0          0            0  \n",
       "1          0             0            0         0          0            0  \n",
       "2          0             0            0         0          0            0  \n",
       "\n",
       "[3 rows x 23 columns]"
      ]
     },
     "execution_count": 77,
     "metadata": {},
     "output_type": "execute_result"
    }
   ],
   "source": [
    "dummies = pd.get_dummies(df12.District)\n",
    "dummies = dummies.astype(int)\n",
    "\n",
    "dummies.head(3)"
   ]
  },
  {
   "cell_type": "code",
   "execution_count": 78,
   "id": "26b1e3a2-07e2-4cdc-b8bf-34c4cf7d6091",
   "metadata": {},
   "outputs": [
    {
     "data": {
      "text/html": [
       "<div>\n",
       "<style scoped>\n",
       "    .dataframe tbody tr th:only-of-type {\n",
       "        vertical-align: middle;\n",
       "    }\n",
       "\n",
       "    .dataframe tbody tr th {\n",
       "        vertical-align: top;\n",
       "    }\n",
       "\n",
       "    .dataframe thead th {\n",
       "        text-align: right;\n",
       "    }\n",
       "</style>\n",
       "<table border=\"1\" class=\"dataframe\">\n",
       "  <thead>\n",
       "    <tr style=\"text-align: right;\">\n",
       "      <th></th>\n",
       "      <th>Price</th>\n",
       "      <th>Baths</th>\n",
       "      <th>Beds</th>\n",
       "      <th>LSP</th>\n",
       "      <th>HSsqft</th>\n",
       "      <th>District</th>\n",
       "      <th>house_price_per_sqft</th>\n",
       "      <th>Ampara</th>\n",
       "      <th>Anuradhapura</th>\n",
       "      <th>Badulla</th>\n",
       "      <th>...</th>\n",
       "      <th>Kurunegala</th>\n",
       "      <th>Mannar</th>\n",
       "      <th>Matale</th>\n",
       "      <th>Matara</th>\n",
       "      <th>Monaragala</th>\n",
       "      <th>Mullativu</th>\n",
       "      <th>Nuwara Eliya</th>\n",
       "      <th>Polonnaruwa</th>\n",
       "      <th>Puttalam</th>\n",
       "      <th>Ratnapura</th>\n",
       "    </tr>\n",
       "  </thead>\n",
       "  <tbody>\n",
       "    <tr>\n",
       "      <th>0</th>\n",
       "      <td>65.0</td>\n",
       "      <td>1</td>\n",
       "      <td>3</td>\n",
       "      <td>10.0</td>\n",
       "      <td>800.0</td>\n",
       "      <td>Galle</td>\n",
       "      <td>8125.00</td>\n",
       "      <td>0</td>\n",
       "      <td>0</td>\n",
       "      <td>0</td>\n",
       "      <td>...</td>\n",
       "      <td>0</td>\n",
       "      <td>0</td>\n",
       "      <td>0</td>\n",
       "      <td>0</td>\n",
       "      <td>0</td>\n",
       "      <td>0</td>\n",
       "      <td>0</td>\n",
       "      <td>0</td>\n",
       "      <td>0</td>\n",
       "      <td>0</td>\n",
       "    </tr>\n",
       "    <tr>\n",
       "      <th>1</th>\n",
       "      <td>70.0</td>\n",
       "      <td>1</td>\n",
       "      <td>3</td>\n",
       "      <td>13.0</td>\n",
       "      <td>1000.0</td>\n",
       "      <td>Galle</td>\n",
       "      <td>7000.00</td>\n",
       "      <td>0</td>\n",
       "      <td>0</td>\n",
       "      <td>0</td>\n",
       "      <td>...</td>\n",
       "      <td>0</td>\n",
       "      <td>0</td>\n",
       "      <td>0</td>\n",
       "      <td>0</td>\n",
       "      <td>0</td>\n",
       "      <td>0</td>\n",
       "      <td>0</td>\n",
       "      <td>0</td>\n",
       "      <td>0</td>\n",
       "      <td>0</td>\n",
       "    </tr>\n",
       "    <tr>\n",
       "      <th>2</th>\n",
       "      <td>58.0</td>\n",
       "      <td>1</td>\n",
       "      <td>1</td>\n",
       "      <td>11.0</td>\n",
       "      <td>1127.0</td>\n",
       "      <td>Galle</td>\n",
       "      <td>5146.41</td>\n",
       "      <td>0</td>\n",
       "      <td>0</td>\n",
       "      <td>0</td>\n",
       "      <td>...</td>\n",
       "      <td>0</td>\n",
       "      <td>0</td>\n",
       "      <td>0</td>\n",
       "      <td>0</td>\n",
       "      <td>0</td>\n",
       "      <td>0</td>\n",
       "      <td>0</td>\n",
       "      <td>0</td>\n",
       "      <td>0</td>\n",
       "      <td>0</td>\n",
       "    </tr>\n",
       "    <tr>\n",
       "      <th>3</th>\n",
       "      <td>84.0</td>\n",
       "      <td>1</td>\n",
       "      <td>3</td>\n",
       "      <td>16.0</td>\n",
       "      <td>1350.0</td>\n",
       "      <td>Galle</td>\n",
       "      <td>6222.22</td>\n",
       "      <td>0</td>\n",
       "      <td>0</td>\n",
       "      <td>0</td>\n",
       "      <td>...</td>\n",
       "      <td>0</td>\n",
       "      <td>0</td>\n",
       "      <td>0</td>\n",
       "      <td>0</td>\n",
       "      <td>0</td>\n",
       "      <td>0</td>\n",
       "      <td>0</td>\n",
       "      <td>0</td>\n",
       "      <td>0</td>\n",
       "      <td>0</td>\n",
       "    </tr>\n",
       "    <tr>\n",
       "      <th>4</th>\n",
       "      <td>65.0</td>\n",
       "      <td>1</td>\n",
       "      <td>3</td>\n",
       "      <td>10.0</td>\n",
       "      <td>800.0</td>\n",
       "      <td>Galle</td>\n",
       "      <td>8125.00</td>\n",
       "      <td>0</td>\n",
       "      <td>0</td>\n",
       "      <td>0</td>\n",
       "      <td>...</td>\n",
       "      <td>0</td>\n",
       "      <td>0</td>\n",
       "      <td>0</td>\n",
       "      <td>0</td>\n",
       "      <td>0</td>\n",
       "      <td>0</td>\n",
       "      <td>0</td>\n",
       "      <td>0</td>\n",
       "      <td>0</td>\n",
       "      <td>0</td>\n",
       "    </tr>\n",
       "  </tbody>\n",
       "</table>\n",
       "<p>5 rows × 29 columns</p>\n",
       "</div>"
      ],
      "text/plain": [
       "   Price  Baths  Beds   LSP  HSsqft District  house_price_per_sqft  Ampara  \\\n",
       "0   65.0      1     3  10.0   800.0    Galle               8125.00       0   \n",
       "1   70.0      1     3  13.0  1000.0    Galle               7000.00       0   \n",
       "2   58.0      1     1  11.0  1127.0    Galle               5146.41       0   \n",
       "3   84.0      1     3  16.0  1350.0    Galle               6222.22       0   \n",
       "4   65.0      1     3  10.0   800.0    Galle               8125.00       0   \n",
       "\n",
       "   Anuradhapura  Badulla  ...  Kurunegala  Mannar  Matale  Matara  Monaragala  \\\n",
       "0             0        0  ...           0       0       0       0           0   \n",
       "1             0        0  ...           0       0       0       0           0   \n",
       "2             0        0  ...           0       0       0       0           0   \n",
       "3             0        0  ...           0       0       0       0           0   \n",
       "4             0        0  ...           0       0       0       0           0   \n",
       "\n",
       "   Mullativu  Nuwara Eliya  Polonnaruwa  Puttalam  Ratnapura  \n",
       "0          0             0            0         0          0  \n",
       "1          0             0            0         0          0  \n",
       "2          0             0            0         0          0  \n",
       "3          0             0            0         0          0  \n",
       "4          0             0            0         0          0  \n",
       "\n",
       "[5 rows x 29 columns]"
      ]
     },
     "execution_count": 78,
     "metadata": {},
     "output_type": "execute_result"
    }
   ],
   "source": [
    "df13 = pd.concat([df12,dummies.drop('Trincomalee',axis='columns')],axis='columns')\n",
    "df13.head()"
   ]
  },
  {
   "cell_type": "code",
   "execution_count": 79,
   "id": "26085125-fd8a-4392-8294-ff973f9090de",
   "metadata": {},
   "outputs": [],
   "source": [
    "df14 = df13.drop(['District','LSP'], axis=1)"
   ]
  },
  {
   "cell_type": "markdown",
   "id": "4b616c2b-786c-4ae7-bfb3-2e8f391a9971",
   "metadata": {},
   "source": [
    "## Build a Model "
   ]
  },
  {
   "cell_type": "code",
   "execution_count": 80,
   "id": "71fd63d2-9eca-42fe-a564-3be79b685437",
   "metadata": {},
   "outputs": [
    {
     "data": {
      "text/plain": [
       "(6622, 27)"
      ]
     },
     "execution_count": 80,
     "metadata": {},
     "output_type": "execute_result"
    }
   ],
   "source": [
    "df14.shape"
   ]
  },
  {
   "cell_type": "code",
   "execution_count": 81,
   "id": "46f81ec8-38f9-4632-aa04-261d8ddb4295",
   "metadata": {},
   "outputs": [
    {
     "data": {
      "text/html": [
       "<div>\n",
       "<style scoped>\n",
       "    .dataframe tbody tr th:only-of-type {\n",
       "        vertical-align: middle;\n",
       "    }\n",
       "\n",
       "    .dataframe tbody tr th {\n",
       "        vertical-align: top;\n",
       "    }\n",
       "\n",
       "    .dataframe thead th {\n",
       "        text-align: right;\n",
       "    }\n",
       "</style>\n",
       "<table border=\"1\" class=\"dataframe\">\n",
       "  <thead>\n",
       "    <tr style=\"text-align: right;\">\n",
       "      <th></th>\n",
       "      <th>Baths</th>\n",
       "      <th>Beds</th>\n",
       "      <th>HSsqft</th>\n",
       "      <th>house_price_per_sqft</th>\n",
       "      <th>Ampara</th>\n",
       "      <th>Anuradhapura</th>\n",
       "      <th>Badulla</th>\n",
       "      <th>Batticaloa</th>\n",
       "      <th>Colombo</th>\n",
       "      <th>Galle</th>\n",
       "      <th>...</th>\n",
       "      <th>Kurunegala</th>\n",
       "      <th>Mannar</th>\n",
       "      <th>Matale</th>\n",
       "      <th>Matara</th>\n",
       "      <th>Monaragala</th>\n",
       "      <th>Mullativu</th>\n",
       "      <th>Nuwara Eliya</th>\n",
       "      <th>Polonnaruwa</th>\n",
       "      <th>Puttalam</th>\n",
       "      <th>Ratnapura</th>\n",
       "    </tr>\n",
       "  </thead>\n",
       "  <tbody>\n",
       "    <tr>\n",
       "      <th>0</th>\n",
       "      <td>1</td>\n",
       "      <td>3</td>\n",
       "      <td>800.0</td>\n",
       "      <td>8125.00</td>\n",
       "      <td>0</td>\n",
       "      <td>0</td>\n",
       "      <td>0</td>\n",
       "      <td>0</td>\n",
       "      <td>0</td>\n",
       "      <td>1</td>\n",
       "      <td>...</td>\n",
       "      <td>0</td>\n",
       "      <td>0</td>\n",
       "      <td>0</td>\n",
       "      <td>0</td>\n",
       "      <td>0</td>\n",
       "      <td>0</td>\n",
       "      <td>0</td>\n",
       "      <td>0</td>\n",
       "      <td>0</td>\n",
       "      <td>0</td>\n",
       "    </tr>\n",
       "    <tr>\n",
       "      <th>1</th>\n",
       "      <td>1</td>\n",
       "      <td>3</td>\n",
       "      <td>1000.0</td>\n",
       "      <td>7000.00</td>\n",
       "      <td>0</td>\n",
       "      <td>0</td>\n",
       "      <td>0</td>\n",
       "      <td>0</td>\n",
       "      <td>0</td>\n",
       "      <td>1</td>\n",
       "      <td>...</td>\n",
       "      <td>0</td>\n",
       "      <td>0</td>\n",
       "      <td>0</td>\n",
       "      <td>0</td>\n",
       "      <td>0</td>\n",
       "      <td>0</td>\n",
       "      <td>0</td>\n",
       "      <td>0</td>\n",
       "      <td>0</td>\n",
       "      <td>0</td>\n",
       "    </tr>\n",
       "    <tr>\n",
       "      <th>2</th>\n",
       "      <td>1</td>\n",
       "      <td>1</td>\n",
       "      <td>1127.0</td>\n",
       "      <td>5146.41</td>\n",
       "      <td>0</td>\n",
       "      <td>0</td>\n",
       "      <td>0</td>\n",
       "      <td>0</td>\n",
       "      <td>0</td>\n",
       "      <td>1</td>\n",
       "      <td>...</td>\n",
       "      <td>0</td>\n",
       "      <td>0</td>\n",
       "      <td>0</td>\n",
       "      <td>0</td>\n",
       "      <td>0</td>\n",
       "      <td>0</td>\n",
       "      <td>0</td>\n",
       "      <td>0</td>\n",
       "      <td>0</td>\n",
       "      <td>0</td>\n",
       "    </tr>\n",
       "  </tbody>\n",
       "</table>\n",
       "<p>3 rows × 26 columns</p>\n",
       "</div>"
      ],
      "text/plain": [
       "   Baths  Beds  HSsqft  house_price_per_sqft  Ampara  Anuradhapura  Badulla  \\\n",
       "0      1     3   800.0               8125.00       0             0        0   \n",
       "1      1     3  1000.0               7000.00       0             0        0   \n",
       "2      1     1  1127.0               5146.41       0             0        0   \n",
       "\n",
       "   Batticaloa  Colombo  Galle  ...  Kurunegala  Mannar  Matale  Matara  \\\n",
       "0           0        0      1  ...           0       0       0       0   \n",
       "1           0        0      1  ...           0       0       0       0   \n",
       "2           0        0      1  ...           0       0       0       0   \n",
       "\n",
       "   Monaragala  Mullativu  Nuwara Eliya  Polonnaruwa  Puttalam  Ratnapura  \n",
       "0           0          0             0            0         0          0  \n",
       "1           0          0             0            0         0          0  \n",
       "2           0          0             0            0         0          0  \n",
       "\n",
       "[3 rows x 26 columns]"
      ]
     },
     "execution_count": 81,
     "metadata": {},
     "output_type": "execute_result"
    }
   ],
   "source": [
    "X = df14.drop(['Price'],axis='columns')\n",
    "X.head(3)"
   ]
  },
  {
   "cell_type": "code",
   "execution_count": 82,
   "id": "17af572d-566b-4ce5-b1e5-1186e2487b33",
   "metadata": {},
   "outputs": [
    {
     "data": {
      "text/plain": [
       "(6622, 26)"
      ]
     },
     "execution_count": 82,
     "metadata": {},
     "output_type": "execute_result"
    }
   ],
   "source": [
    "X.shape"
   ]
  },
  {
   "cell_type": "code",
   "execution_count": 83,
   "id": "ec08df26-1687-4815-aa85-37811ae15a53",
   "metadata": {},
   "outputs": [
    {
     "data": {
      "text/plain": [
       "0    65.0\n",
       "1    70.0\n",
       "2    58.0\n",
       "Name: Price, dtype: float64"
      ]
     },
     "execution_count": 83,
     "metadata": {},
     "output_type": "execute_result"
    }
   ],
   "source": [
    "y = df14.Price\n",
    "y.head(3)"
   ]
  },
  {
   "cell_type": "code",
   "execution_count": 84,
   "id": "8660a4d8-f70f-4672-9883-8750b022b562",
   "metadata": {},
   "outputs": [
    {
     "data": {
      "text/plain": [
       "6622"
      ]
     },
     "execution_count": 84,
     "metadata": {},
     "output_type": "execute_result"
    }
   ],
   "source": [
    "len(y)"
   ]
  },
  {
   "cell_type": "code",
   "execution_count": 85,
   "id": "191af141-21b4-45a3-9a63-4856b0b78e41",
   "metadata": {},
   "outputs": [],
   "source": [
    "from sklearn.model_selection import train_test_split\n",
    "X_train, X_test, y_train, y_test = train_test_split(X,y,test_size=0.2,random_state=10)"
   ]
  },
  {
   "cell_type": "code",
   "execution_count": 86,
   "id": "8d283c10-fd6d-4bb9-a8d6-28b026d1503d",
   "metadata": {},
   "outputs": [
    {
     "data": {
      "text/html": [
       "<style>#sk-container-id-1 {color: black;background-color: white;}#sk-container-id-1 pre{padding: 0;}#sk-container-id-1 div.sk-toggleable {background-color: white;}#sk-container-id-1 label.sk-toggleable__label {cursor: pointer;display: block;width: 100%;margin-bottom: 0;padding: 0.3em;box-sizing: border-box;text-align: center;}#sk-container-id-1 label.sk-toggleable__label-arrow:before {content: \"▸\";float: left;margin-right: 0.25em;color: #696969;}#sk-container-id-1 label.sk-toggleable__label-arrow:hover:before {color: black;}#sk-container-id-1 div.sk-estimator:hover label.sk-toggleable__label-arrow:before {color: black;}#sk-container-id-1 div.sk-toggleable__content {max-height: 0;max-width: 0;overflow: hidden;text-align: left;background-color: #f0f8ff;}#sk-container-id-1 div.sk-toggleable__content pre {margin: 0.2em;color: black;border-radius: 0.25em;background-color: #f0f8ff;}#sk-container-id-1 input.sk-toggleable__control:checked~div.sk-toggleable__content {max-height: 200px;max-width: 100%;overflow: auto;}#sk-container-id-1 input.sk-toggleable__control:checked~label.sk-toggleable__label-arrow:before {content: \"▾\";}#sk-container-id-1 div.sk-estimator input.sk-toggleable__control:checked~label.sk-toggleable__label {background-color: #d4ebff;}#sk-container-id-1 div.sk-label input.sk-toggleable__control:checked~label.sk-toggleable__label {background-color: #d4ebff;}#sk-container-id-1 input.sk-hidden--visually {border: 0;clip: rect(1px 1px 1px 1px);clip: rect(1px, 1px, 1px, 1px);height: 1px;margin: -1px;overflow: hidden;padding: 0;position: absolute;width: 1px;}#sk-container-id-1 div.sk-estimator {font-family: monospace;background-color: #f0f8ff;border: 1px dotted black;border-radius: 0.25em;box-sizing: border-box;margin-bottom: 0.5em;}#sk-container-id-1 div.sk-estimator:hover {background-color: #d4ebff;}#sk-container-id-1 div.sk-parallel-item::after {content: \"\";width: 100%;border-bottom: 1px solid gray;flex-grow: 1;}#sk-container-id-1 div.sk-label:hover label.sk-toggleable__label {background-color: #d4ebff;}#sk-container-id-1 div.sk-serial::before {content: \"\";position: absolute;border-left: 1px solid gray;box-sizing: border-box;top: 0;bottom: 0;left: 50%;z-index: 0;}#sk-container-id-1 div.sk-serial {display: flex;flex-direction: column;align-items: center;background-color: white;padding-right: 0.2em;padding-left: 0.2em;position: relative;}#sk-container-id-1 div.sk-item {position: relative;z-index: 1;}#sk-container-id-1 div.sk-parallel {display: flex;align-items: stretch;justify-content: center;background-color: white;position: relative;}#sk-container-id-1 div.sk-item::before, #sk-container-id-1 div.sk-parallel-item::before {content: \"\";position: absolute;border-left: 1px solid gray;box-sizing: border-box;top: 0;bottom: 0;left: 50%;z-index: -1;}#sk-container-id-1 div.sk-parallel-item {display: flex;flex-direction: column;z-index: 1;position: relative;background-color: white;}#sk-container-id-1 div.sk-parallel-item:first-child::after {align-self: flex-end;width: 50%;}#sk-container-id-1 div.sk-parallel-item:last-child::after {align-self: flex-start;width: 50%;}#sk-container-id-1 div.sk-parallel-item:only-child::after {width: 0;}#sk-container-id-1 div.sk-dashed-wrapped {border: 1px dashed gray;margin: 0 0.4em 0.5em 0.4em;box-sizing: border-box;padding-bottom: 0.4em;background-color: white;}#sk-container-id-1 div.sk-label label {font-family: monospace;font-weight: bold;display: inline-block;line-height: 1.2em;}#sk-container-id-1 div.sk-label-container {text-align: center;}#sk-container-id-1 div.sk-container {/* jupyter's `normalize.less` sets `[hidden] { display: none; }` but bootstrap.min.css set `[hidden] { display: none !important; }` so we also need the `!important` here to be able to override the default hidden behavior on the sphinx rendered scikit-learn.org. See: https://github.com/scikit-learn/scikit-learn/issues/21755 */display: inline-block !important;position: relative;}#sk-container-id-1 div.sk-text-repr-fallback {display: none;}</style><div id=\"sk-container-id-1\" class=\"sk-top-container\"><div class=\"sk-text-repr-fallback\"><pre>LinearRegression()</pre><b>In a Jupyter environment, please rerun this cell to show the HTML representation or trust the notebook. <br />On GitHub, the HTML representation is unable to render, please try loading this page with nbviewer.org.</b></div><div class=\"sk-container\" hidden><div class=\"sk-item\"><div class=\"sk-estimator sk-toggleable\"><input class=\"sk-toggleable__control sk-hidden--visually\" id=\"sk-estimator-id-1\" type=\"checkbox\" checked><label for=\"sk-estimator-id-1\" class=\"sk-toggleable__label sk-toggleable__label-arrow\">LinearRegression</label><div class=\"sk-toggleable__content\"><pre>LinearRegression()</pre></div></div></div></div></div>"
      ],
      "text/plain": [
       "LinearRegression()"
      ]
     },
     "execution_count": 86,
     "metadata": {},
     "output_type": "execute_result"
    }
   ],
   "source": [
    "from sklearn.linear_model import LinearRegression\n",
    "lr_clf = LinearRegression()\n",
    "lr_clf.fit(X_train,y_train)\n"
   ]
  },
  {
   "cell_type": "code",
   "execution_count": 87,
   "id": "bec340bf-d707-409a-8fa1-87b9324e69d9",
   "metadata": {},
   "outputs": [
    {
     "data": {
      "text/plain": [
       "0.9375860364821023"
      ]
     },
     "execution_count": 87,
     "metadata": {},
     "output_type": "execute_result"
    }
   ],
   "source": [
    "lr_clf.score(X_train,y_train)"
   ]
  },
  {
   "cell_type": "code",
   "execution_count": 88,
   "id": "1b5db239-4034-4928-8b0f-9f9da871e370",
   "metadata": {},
   "outputs": [
    {
     "data": {
      "text/plain": [
       "0.933960835164995"
      ]
     },
     "execution_count": 88,
     "metadata": {},
     "output_type": "execute_result"
    }
   ],
   "source": [
    "lr_clf.score(X_test,y_test)"
   ]
  },
  {
   "cell_type": "markdown",
   "id": "800d10e2-9b49-445c-8ed5-f052e4d2491b",
   "metadata": {},
   "source": [
    "## Use K Fold cross validation to measure accuracy of our LinearRegression model"
   ]
  },
  {
   "cell_type": "code",
   "execution_count": 89,
   "id": "08edf632-7c88-426f-8535-2c34825e51e7",
   "metadata": {},
   "outputs": [
    {
     "data": {
      "text/plain": [
       "array([0.92359361, 0.92403563, 0.93056562, 0.92954695, 0.92503776])"
      ]
     },
     "execution_count": 89,
     "metadata": {},
     "output_type": "execute_result"
    }
   ],
   "source": [
    "from sklearn.model_selection import ShuffleSplit\n",
    "from sklearn.model_selection import cross_val_score\n",
    "\n",
    "cv = ShuffleSplit(n_splits=5, test_size=0.2, random_state=0)\n",
    "\n",
    "cross_val_score(lr_clf, X, y, cv=cv)"
   ]
  },
  {
   "cell_type": "code",
   "execution_count": 90,
   "id": "336dfbc6-a897-4dfd-a2a0-64a0045e1b07",
   "metadata": {},
   "outputs": [
    {
     "data": {
      "text/plain": [
       "0.9265559147339619"
      ]
     },
     "execution_count": 90,
     "metadata": {},
     "output_type": "execute_result"
    }
   ],
   "source": [
    "cross_val_score(lr_clf, X, y, cv=cv).mean()"
   ]
  },
  {
   "cell_type": "code",
   "execution_count": 91,
   "id": "04d6a40b-ffac-442d-93ea-b63d5853d03b",
   "metadata": {},
   "outputs": [],
   "source": [
    "import pickle\n",
    "with open('Srilanka_home_prices_model.pickle','wb') as f:\n",
    "    pickle.dump(lr_clf,f)"
   ]
  }
 ],
 "metadata": {
  "kernelspec": {
   "display_name": "Python 3 (ipykernel)",
   "language": "python",
   "name": "python3"
  },
  "language_info": {
   "codemirror_mode": {
    "name": "ipython",
    "version": 3
   },
   "file_extension": ".py",
   "mimetype": "text/x-python",
   "name": "python",
   "nbconvert_exporter": "python",
   "pygments_lexer": "ipython3",
   "version": "3.11.7"
  }
 },
 "nbformat": 4,
 "nbformat_minor": 5
}
